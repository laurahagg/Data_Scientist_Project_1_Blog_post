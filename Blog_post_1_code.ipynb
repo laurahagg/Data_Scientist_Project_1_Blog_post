{
 "cells": [
  {
   "cell_type": "markdown",
   "id": "05989697",
   "metadata": {},
   "source": [
    "# Project: Write a Blog post about Airbnb-Data from Boston and Seattle\n",
    "\n",
    "### by Laura Hagg"
   ]
  },
  {
   "cell_type": "markdown",
   "id": "cc7c05c0",
   "metadata": {},
   "source": [
    "### Neccessary imports:"
   ]
  },
  {
   "cell_type": "code",
   "execution_count": 1,
   "id": "c0f1d55f",
   "metadata": {},
   "outputs": [],
   "source": [
    "import pandas as pd\n",
    "import numpy as np\n",
    "import matplotlib.pyplot as plt\n",
    "%matplotlib inline\n",
    "import seaborn as sb\n",
    "\n",
    "from sklearn.linear_model import LinearRegression\n",
    "from sklearn.model_selection import train_test_split\n",
    "from sklearn.metrics import r2_score, mean_squared_error\n",
    "\n",
    "import statsmodels.api as sm"
   ]
  },
  {
   "cell_type": "markdown",
   "id": "1c2d520a",
   "metadata": {},
   "source": [
    "### Settings:"
   ]
  },
  {
   "cell_type": "code",
   "execution_count": 2,
   "id": "d78133dc",
   "metadata": {},
   "outputs": [],
   "source": [
    "#set the colors for the plots\n",
    "boston_color=sb.color_palette()[0]\n",
    "seattle_color=sb.color_palette()[1]\n",
    "\n",
    "#function for the labels of the plots\n",
    "def graph_labels(title, xlabel, ylabel):\n",
    "    plt.title(title)\n",
    "    plt.xlabel(xlabel)\n",
    "    plt.ylabel(ylabel)"
   ]
  },
  {
   "cell_type": "markdown",
   "id": "e8df4fe2",
   "metadata": {},
   "source": [
    "## Steps:\n",
    "1. Gather\n",
    "2. Assess\n",
    "3. Clean\n",
    "4. Analyzse\n",
    "5. Model\n",
    "6. Visualize"
   ]
  },
  {
   "cell_type": "markdown",
   "id": "dbb3056e",
   "metadata": {},
   "source": [
    "## 1. Gather"
   ]
  },
  {
   "cell_type": "markdown",
   "id": "e0cc1833",
   "metadata": {},
   "source": [
    "### Boston: Load the data"
   ]
  },
  {
   "cell_type": "code",
   "execution_count": 3,
   "id": "4f055759",
   "metadata": {
    "scrolled": true
   },
   "outputs": [
    {
     "data": {
      "text/html": [
       "<div>\n",
       "<style scoped>\n",
       "    .dataframe tbody tr th:only-of-type {\n",
       "        vertical-align: middle;\n",
       "    }\n",
       "\n",
       "    .dataframe tbody tr th {\n",
       "        vertical-align: top;\n",
       "    }\n",
       "\n",
       "    .dataframe thead th {\n",
       "        text-align: right;\n",
       "    }\n",
       "</style>\n",
       "<table border=\"1\" class=\"dataframe\">\n",
       "  <thead>\n",
       "    <tr style=\"text-align: right;\">\n",
       "      <th></th>\n",
       "      <th>id</th>\n",
       "      <th>listing_url</th>\n",
       "      <th>scrape_id</th>\n",
       "      <th>last_scraped</th>\n",
       "      <th>name</th>\n",
       "      <th>summary</th>\n",
       "      <th>space</th>\n",
       "      <th>description</th>\n",
       "      <th>experiences_offered</th>\n",
       "      <th>neighborhood_overview</th>\n",
       "      <th>...</th>\n",
       "      <th>review_scores_value</th>\n",
       "      <th>requires_license</th>\n",
       "      <th>license</th>\n",
       "      <th>jurisdiction_names</th>\n",
       "      <th>instant_bookable</th>\n",
       "      <th>cancellation_policy</th>\n",
       "      <th>require_guest_profile_picture</th>\n",
       "      <th>require_guest_phone_verification</th>\n",
       "      <th>calculated_host_listings_count</th>\n",
       "      <th>reviews_per_month</th>\n",
       "    </tr>\n",
       "  </thead>\n",
       "  <tbody>\n",
       "    <tr>\n",
       "      <th>0</th>\n",
       "      <td>12147973</td>\n",
       "      <td>https://www.airbnb.com/rooms/12147973</td>\n",
       "      <td>20160906204935</td>\n",
       "      <td>2016-09-07</td>\n",
       "      <td>Sunny Bungalow in the City</td>\n",
       "      <td>Cozy, sunny, family home.  Master bedroom high...</td>\n",
       "      <td>The house has an open and cozy feel at the sam...</td>\n",
       "      <td>Cozy, sunny, family home.  Master bedroom high...</td>\n",
       "      <td>none</td>\n",
       "      <td>Roslindale is quiet, convenient and friendly. ...</td>\n",
       "      <td>...</td>\n",
       "      <td>NaN</td>\n",
       "      <td>f</td>\n",
       "      <td>NaN</td>\n",
       "      <td>NaN</td>\n",
       "      <td>f</td>\n",
       "      <td>moderate</td>\n",
       "      <td>f</td>\n",
       "      <td>f</td>\n",
       "      <td>1</td>\n",
       "      <td>NaN</td>\n",
       "    </tr>\n",
       "    <tr>\n",
       "      <th>1</th>\n",
       "      <td>3075044</td>\n",
       "      <td>https://www.airbnb.com/rooms/3075044</td>\n",
       "      <td>20160906204935</td>\n",
       "      <td>2016-09-07</td>\n",
       "      <td>Charming room in pet friendly apt</td>\n",
       "      <td>Charming and quiet room in a second floor 1910...</td>\n",
       "      <td>Small but cozy and quite room with a full size...</td>\n",
       "      <td>Charming and quiet room in a second floor 1910...</td>\n",
       "      <td>none</td>\n",
       "      <td>The room is in Roslindale, a diverse and prima...</td>\n",
       "      <td>...</td>\n",
       "      <td>9.0</td>\n",
       "      <td>f</td>\n",
       "      <td>NaN</td>\n",
       "      <td>NaN</td>\n",
       "      <td>t</td>\n",
       "      <td>moderate</td>\n",
       "      <td>f</td>\n",
       "      <td>f</td>\n",
       "      <td>1</td>\n",
       "      <td>1.30</td>\n",
       "    </tr>\n",
       "    <tr>\n",
       "      <th>2</th>\n",
       "      <td>6976</td>\n",
       "      <td>https://www.airbnb.com/rooms/6976</td>\n",
       "      <td>20160906204935</td>\n",
       "      <td>2016-09-07</td>\n",
       "      <td>Mexican Folk Art Haven in Boston</td>\n",
       "      <td>Come stay with a friendly, middle-aged guy in ...</td>\n",
       "      <td>Come stay with a friendly, middle-aged guy in ...</td>\n",
       "      <td>Come stay with a friendly, middle-aged guy in ...</td>\n",
       "      <td>none</td>\n",
       "      <td>The LOCATION: Roslindale is a safe and diverse...</td>\n",
       "      <td>...</td>\n",
       "      <td>10.0</td>\n",
       "      <td>f</td>\n",
       "      <td>NaN</td>\n",
       "      <td>NaN</td>\n",
       "      <td>f</td>\n",
       "      <td>moderate</td>\n",
       "      <td>t</td>\n",
       "      <td>f</td>\n",
       "      <td>1</td>\n",
       "      <td>0.47</td>\n",
       "    </tr>\n",
       "    <tr>\n",
       "      <th>3</th>\n",
       "      <td>1436513</td>\n",
       "      <td>https://www.airbnb.com/rooms/1436513</td>\n",
       "      <td>20160906204935</td>\n",
       "      <td>2016-09-07</td>\n",
       "      <td>Spacious Sunny Bedroom Suite in Historic Home</td>\n",
       "      <td>Come experience the comforts of home away from...</td>\n",
       "      <td>Most places you find in Boston are small howev...</td>\n",
       "      <td>Come experience the comforts of home away from...</td>\n",
       "      <td>none</td>\n",
       "      <td>Roslindale is a lovely little neighborhood loc...</td>\n",
       "      <td>...</td>\n",
       "      <td>10.0</td>\n",
       "      <td>f</td>\n",
       "      <td>NaN</td>\n",
       "      <td>NaN</td>\n",
       "      <td>f</td>\n",
       "      <td>moderate</td>\n",
       "      <td>f</td>\n",
       "      <td>f</td>\n",
       "      <td>1</td>\n",
       "      <td>1.00</td>\n",
       "    </tr>\n",
       "    <tr>\n",
       "      <th>4</th>\n",
       "      <td>7651065</td>\n",
       "      <td>https://www.airbnb.com/rooms/7651065</td>\n",
       "      <td>20160906204935</td>\n",
       "      <td>2016-09-07</td>\n",
       "      <td>Come Home to Boston</td>\n",
       "      <td>My comfy, clean and relaxing home is one block...</td>\n",
       "      <td>Clean, attractive, private room, one block fro...</td>\n",
       "      <td>My comfy, clean and relaxing home is one block...</td>\n",
       "      <td>none</td>\n",
       "      <td>I love the proximity to downtown, the neighbor...</td>\n",
       "      <td>...</td>\n",
       "      <td>10.0</td>\n",
       "      <td>f</td>\n",
       "      <td>NaN</td>\n",
       "      <td>NaN</td>\n",
       "      <td>f</td>\n",
       "      <td>flexible</td>\n",
       "      <td>f</td>\n",
       "      <td>f</td>\n",
       "      <td>1</td>\n",
       "      <td>2.25</td>\n",
       "    </tr>\n",
       "  </tbody>\n",
       "</table>\n",
       "<p>5 rows × 95 columns</p>\n",
       "</div>"
      ],
      "text/plain": [
       "         id                            listing_url       scrape_id  \\\n",
       "0  12147973  https://www.airbnb.com/rooms/12147973  20160906204935   \n",
       "1   3075044   https://www.airbnb.com/rooms/3075044  20160906204935   \n",
       "2      6976      https://www.airbnb.com/rooms/6976  20160906204935   \n",
       "3   1436513   https://www.airbnb.com/rooms/1436513  20160906204935   \n",
       "4   7651065   https://www.airbnb.com/rooms/7651065  20160906204935   \n",
       "\n",
       "  last_scraped                                           name  \\\n",
       "0   2016-09-07                     Sunny Bungalow in the City   \n",
       "1   2016-09-07              Charming room in pet friendly apt   \n",
       "2   2016-09-07               Mexican Folk Art Haven in Boston   \n",
       "3   2016-09-07  Spacious Sunny Bedroom Suite in Historic Home   \n",
       "4   2016-09-07                            Come Home to Boston   \n",
       "\n",
       "                                             summary  \\\n",
       "0  Cozy, sunny, family home.  Master bedroom high...   \n",
       "1  Charming and quiet room in a second floor 1910...   \n",
       "2  Come stay with a friendly, middle-aged guy in ...   \n",
       "3  Come experience the comforts of home away from...   \n",
       "4  My comfy, clean and relaxing home is one block...   \n",
       "\n",
       "                                               space  \\\n",
       "0  The house has an open and cozy feel at the sam...   \n",
       "1  Small but cozy and quite room with a full size...   \n",
       "2  Come stay with a friendly, middle-aged guy in ...   \n",
       "3  Most places you find in Boston are small howev...   \n",
       "4  Clean, attractive, private room, one block fro...   \n",
       "\n",
       "                                         description experiences_offered  \\\n",
       "0  Cozy, sunny, family home.  Master bedroom high...                none   \n",
       "1  Charming and quiet room in a second floor 1910...                none   \n",
       "2  Come stay with a friendly, middle-aged guy in ...                none   \n",
       "3  Come experience the comforts of home away from...                none   \n",
       "4  My comfy, clean and relaxing home is one block...                none   \n",
       "\n",
       "                               neighborhood_overview  ... review_scores_value  \\\n",
       "0  Roslindale is quiet, convenient and friendly. ...  ...                 NaN   \n",
       "1  The room is in Roslindale, a diverse and prima...  ...                 9.0   \n",
       "2  The LOCATION: Roslindale is a safe and diverse...  ...                10.0   \n",
       "3  Roslindale is a lovely little neighborhood loc...  ...                10.0   \n",
       "4  I love the proximity to downtown, the neighbor...  ...                10.0   \n",
       "\n",
       "  requires_license license jurisdiction_names instant_bookable  \\\n",
       "0                f     NaN                NaN                f   \n",
       "1                f     NaN                NaN                t   \n",
       "2                f     NaN                NaN                f   \n",
       "3                f     NaN                NaN                f   \n",
       "4                f     NaN                NaN                f   \n",
       "\n",
       "  cancellation_policy require_guest_profile_picture  \\\n",
       "0            moderate                             f   \n",
       "1            moderate                             f   \n",
       "2            moderate                             t   \n",
       "3            moderate                             f   \n",
       "4            flexible                             f   \n",
       "\n",
       "  require_guest_phone_verification calculated_host_listings_count  \\\n",
       "0                                f                              1   \n",
       "1                                f                              1   \n",
       "2                                f                              1   \n",
       "3                                f                              1   \n",
       "4                                f                              1   \n",
       "\n",
       "   reviews_per_month  \n",
       "0                NaN  \n",
       "1               1.30  \n",
       "2               0.47  \n",
       "3               1.00  \n",
       "4               2.25  \n",
       "\n",
       "[5 rows x 95 columns]"
      ]
     },
     "execution_count": 3,
     "metadata": {},
     "output_type": "execute_result"
    }
   ],
   "source": [
    "boston = pd.read_csv('boston_listings.csv')\n",
    "boston.head()"
   ]
  },
  {
   "cell_type": "markdown",
   "id": "c0524c92",
   "metadata": {},
   "source": [
    "### Seattle: Load the data"
   ]
  },
  {
   "cell_type": "code",
   "execution_count": 4,
   "id": "0ac3d2a9",
   "metadata": {
    "scrolled": true
   },
   "outputs": [
    {
     "data": {
      "text/html": [
       "<div>\n",
       "<style scoped>\n",
       "    .dataframe tbody tr th:only-of-type {\n",
       "        vertical-align: middle;\n",
       "    }\n",
       "\n",
       "    .dataframe tbody tr th {\n",
       "        vertical-align: top;\n",
       "    }\n",
       "\n",
       "    .dataframe thead th {\n",
       "        text-align: right;\n",
       "    }\n",
       "</style>\n",
       "<table border=\"1\" class=\"dataframe\">\n",
       "  <thead>\n",
       "    <tr style=\"text-align: right;\">\n",
       "      <th></th>\n",
       "      <th>id</th>\n",
       "      <th>listing_url</th>\n",
       "      <th>scrape_id</th>\n",
       "      <th>last_scraped</th>\n",
       "      <th>name</th>\n",
       "      <th>summary</th>\n",
       "      <th>space</th>\n",
       "      <th>description</th>\n",
       "      <th>experiences_offered</th>\n",
       "      <th>neighborhood_overview</th>\n",
       "      <th>...</th>\n",
       "      <th>review_scores_value</th>\n",
       "      <th>requires_license</th>\n",
       "      <th>license</th>\n",
       "      <th>jurisdiction_names</th>\n",
       "      <th>instant_bookable</th>\n",
       "      <th>cancellation_policy</th>\n",
       "      <th>require_guest_profile_picture</th>\n",
       "      <th>require_guest_phone_verification</th>\n",
       "      <th>calculated_host_listings_count</th>\n",
       "      <th>reviews_per_month</th>\n",
       "    </tr>\n",
       "  </thead>\n",
       "  <tbody>\n",
       "    <tr>\n",
       "      <th>0</th>\n",
       "      <td>241032</td>\n",
       "      <td>https://www.airbnb.com/rooms/241032</td>\n",
       "      <td>20160104002432</td>\n",
       "      <td>2016-01-04</td>\n",
       "      <td>Stylish Queen Anne Apartment</td>\n",
       "      <td>NaN</td>\n",
       "      <td>Make your self at home in this charming one-be...</td>\n",
       "      <td>Make your self at home in this charming one-be...</td>\n",
       "      <td>none</td>\n",
       "      <td>NaN</td>\n",
       "      <td>...</td>\n",
       "      <td>10.0</td>\n",
       "      <td>f</td>\n",
       "      <td>NaN</td>\n",
       "      <td>WASHINGTON</td>\n",
       "      <td>f</td>\n",
       "      <td>moderate</td>\n",
       "      <td>f</td>\n",
       "      <td>f</td>\n",
       "      <td>2</td>\n",
       "      <td>4.07</td>\n",
       "    </tr>\n",
       "    <tr>\n",
       "      <th>1</th>\n",
       "      <td>953595</td>\n",
       "      <td>https://www.airbnb.com/rooms/953595</td>\n",
       "      <td>20160104002432</td>\n",
       "      <td>2016-01-04</td>\n",
       "      <td>Bright &amp; Airy Queen Anne Apartment</td>\n",
       "      <td>Chemically sensitive? We've removed the irrita...</td>\n",
       "      <td>Beautiful, hypoallergenic apartment in an extr...</td>\n",
       "      <td>Chemically sensitive? We've removed the irrita...</td>\n",
       "      <td>none</td>\n",
       "      <td>Queen Anne is a wonderful, truly functional vi...</td>\n",
       "      <td>...</td>\n",
       "      <td>10.0</td>\n",
       "      <td>f</td>\n",
       "      <td>NaN</td>\n",
       "      <td>WASHINGTON</td>\n",
       "      <td>f</td>\n",
       "      <td>strict</td>\n",
       "      <td>t</td>\n",
       "      <td>t</td>\n",
       "      <td>6</td>\n",
       "      <td>1.48</td>\n",
       "    </tr>\n",
       "    <tr>\n",
       "      <th>2</th>\n",
       "      <td>3308979</td>\n",
       "      <td>https://www.airbnb.com/rooms/3308979</td>\n",
       "      <td>20160104002432</td>\n",
       "      <td>2016-01-04</td>\n",
       "      <td>New Modern House-Amazing water view</td>\n",
       "      <td>New modern house built in 2013.  Spectacular s...</td>\n",
       "      <td>Our house is modern, light and fresh with a wa...</td>\n",
       "      <td>New modern house built in 2013.  Spectacular s...</td>\n",
       "      <td>none</td>\n",
       "      <td>Upper Queen Anne is a charming neighborhood fu...</td>\n",
       "      <td>...</td>\n",
       "      <td>10.0</td>\n",
       "      <td>f</td>\n",
       "      <td>NaN</td>\n",
       "      <td>WASHINGTON</td>\n",
       "      <td>f</td>\n",
       "      <td>strict</td>\n",
       "      <td>f</td>\n",
       "      <td>f</td>\n",
       "      <td>2</td>\n",
       "      <td>1.15</td>\n",
       "    </tr>\n",
       "    <tr>\n",
       "      <th>3</th>\n",
       "      <td>7421966</td>\n",
       "      <td>https://www.airbnb.com/rooms/7421966</td>\n",
       "      <td>20160104002432</td>\n",
       "      <td>2016-01-04</td>\n",
       "      <td>Queen Anne Chateau</td>\n",
       "      <td>A charming apartment that sits atop Queen Anne...</td>\n",
       "      <td>NaN</td>\n",
       "      <td>A charming apartment that sits atop Queen Anne...</td>\n",
       "      <td>none</td>\n",
       "      <td>NaN</td>\n",
       "      <td>...</td>\n",
       "      <td>NaN</td>\n",
       "      <td>f</td>\n",
       "      <td>NaN</td>\n",
       "      <td>WASHINGTON</td>\n",
       "      <td>f</td>\n",
       "      <td>flexible</td>\n",
       "      <td>f</td>\n",
       "      <td>f</td>\n",
       "      <td>1</td>\n",
       "      <td>NaN</td>\n",
       "    </tr>\n",
       "    <tr>\n",
       "      <th>4</th>\n",
       "      <td>278830</td>\n",
       "      <td>https://www.airbnb.com/rooms/278830</td>\n",
       "      <td>20160104002432</td>\n",
       "      <td>2016-01-04</td>\n",
       "      <td>Charming craftsman 3 bdm house</td>\n",
       "      <td>Cozy family craftman house in beautiful neighb...</td>\n",
       "      <td>Cozy family craftman house in beautiful neighb...</td>\n",
       "      <td>Cozy family craftman house in beautiful neighb...</td>\n",
       "      <td>none</td>\n",
       "      <td>We are in the beautiful neighborhood of Queen ...</td>\n",
       "      <td>...</td>\n",
       "      <td>9.0</td>\n",
       "      <td>f</td>\n",
       "      <td>NaN</td>\n",
       "      <td>WASHINGTON</td>\n",
       "      <td>f</td>\n",
       "      <td>strict</td>\n",
       "      <td>f</td>\n",
       "      <td>f</td>\n",
       "      <td>1</td>\n",
       "      <td>0.89</td>\n",
       "    </tr>\n",
       "  </tbody>\n",
       "</table>\n",
       "<p>5 rows × 92 columns</p>\n",
       "</div>"
      ],
      "text/plain": [
       "        id                           listing_url       scrape_id last_scraped  \\\n",
       "0   241032   https://www.airbnb.com/rooms/241032  20160104002432   2016-01-04   \n",
       "1   953595   https://www.airbnb.com/rooms/953595  20160104002432   2016-01-04   \n",
       "2  3308979  https://www.airbnb.com/rooms/3308979  20160104002432   2016-01-04   \n",
       "3  7421966  https://www.airbnb.com/rooms/7421966  20160104002432   2016-01-04   \n",
       "4   278830   https://www.airbnb.com/rooms/278830  20160104002432   2016-01-04   \n",
       "\n",
       "                                  name  \\\n",
       "0         Stylish Queen Anne Apartment   \n",
       "1   Bright & Airy Queen Anne Apartment   \n",
       "2  New Modern House-Amazing water view   \n",
       "3                   Queen Anne Chateau   \n",
       "4       Charming craftsman 3 bdm house   \n",
       "\n",
       "                                             summary  \\\n",
       "0                                                NaN   \n",
       "1  Chemically sensitive? We've removed the irrita...   \n",
       "2  New modern house built in 2013.  Spectacular s...   \n",
       "3  A charming apartment that sits atop Queen Anne...   \n",
       "4  Cozy family craftman house in beautiful neighb...   \n",
       "\n",
       "                                               space  \\\n",
       "0  Make your self at home in this charming one-be...   \n",
       "1  Beautiful, hypoallergenic apartment in an extr...   \n",
       "2  Our house is modern, light and fresh with a wa...   \n",
       "3                                                NaN   \n",
       "4  Cozy family craftman house in beautiful neighb...   \n",
       "\n",
       "                                         description experiences_offered  \\\n",
       "0  Make your self at home in this charming one-be...                none   \n",
       "1  Chemically sensitive? We've removed the irrita...                none   \n",
       "2  New modern house built in 2013.  Spectacular s...                none   \n",
       "3  A charming apartment that sits atop Queen Anne...                none   \n",
       "4  Cozy family craftman house in beautiful neighb...                none   \n",
       "\n",
       "                               neighborhood_overview  ... review_scores_value  \\\n",
       "0                                                NaN  ...                10.0   \n",
       "1  Queen Anne is a wonderful, truly functional vi...  ...                10.0   \n",
       "2  Upper Queen Anne is a charming neighborhood fu...  ...                10.0   \n",
       "3                                                NaN  ...                 NaN   \n",
       "4  We are in the beautiful neighborhood of Queen ...  ...                 9.0   \n",
       "\n",
       "  requires_license license jurisdiction_names instant_bookable  \\\n",
       "0                f     NaN         WASHINGTON                f   \n",
       "1                f     NaN         WASHINGTON                f   \n",
       "2                f     NaN         WASHINGTON                f   \n",
       "3                f     NaN         WASHINGTON                f   \n",
       "4                f     NaN         WASHINGTON                f   \n",
       "\n",
       "  cancellation_policy  require_guest_profile_picture  \\\n",
       "0            moderate                              f   \n",
       "1              strict                              t   \n",
       "2              strict                              f   \n",
       "3            flexible                              f   \n",
       "4              strict                              f   \n",
       "\n",
       "  require_guest_phone_verification calculated_host_listings_count  \\\n",
       "0                                f                              2   \n",
       "1                                t                              6   \n",
       "2                                f                              2   \n",
       "3                                f                              1   \n",
       "4                                f                              1   \n",
       "\n",
       "  reviews_per_month  \n",
       "0              4.07  \n",
       "1              1.48  \n",
       "2              1.15  \n",
       "3               NaN  \n",
       "4              0.89  \n",
       "\n",
       "[5 rows x 92 columns]"
      ]
     },
     "execution_count": 4,
     "metadata": {},
     "output_type": "execute_result"
    }
   ],
   "source": [
    "seattle=pd.read_csv('seattle_listings.csv')\n",
    "seattle.head()"
   ]
  },
  {
   "cell_type": "markdown",
   "id": "7bd30045",
   "metadata": {},
   "source": [
    "## 2. Assess"
   ]
  },
  {
   "cell_type": "markdown",
   "id": "3f8f24ca",
   "metadata": {},
   "source": [
    "### Boston:"
   ]
  },
  {
   "cell_type": "code",
   "execution_count": 5,
   "id": "61102a52",
   "metadata": {},
   "outputs": [
    {
     "data": {
      "text/plain": [
       "(3585, 95)"
      ]
     },
     "execution_count": 5,
     "metadata": {},
     "output_type": "execute_result"
    }
   ],
   "source": [
    "boston.shape"
   ]
  },
  {
   "cell_type": "code",
   "execution_count": 6,
   "id": "dc09ca41",
   "metadata": {},
   "outputs": [
    {
     "name": "stdout",
     "output_type": "stream",
     "text": [
      "<class 'pandas.core.frame.DataFrame'>\n",
      "RangeIndex: 3585 entries, 0 to 3584\n",
      "Data columns (total 95 columns):\n",
      " #   Column                            Non-Null Count  Dtype  \n",
      "---  ------                            --------------  -----  \n",
      " 0   id                                3585 non-null   int64  \n",
      " 1   listing_url                       3585 non-null   object \n",
      " 2   scrape_id                         3585 non-null   int64  \n",
      " 3   last_scraped                      3585 non-null   object \n",
      " 4   name                              3585 non-null   object \n",
      " 5   summary                           3442 non-null   object \n",
      " 6   space                             2528 non-null   object \n",
      " 7   description                       3585 non-null   object \n",
      " 8   experiences_offered               3585 non-null   object \n",
      " 9   neighborhood_overview             2170 non-null   object \n",
      " 10  notes                             1610 non-null   object \n",
      " 11  transit                           2295 non-null   object \n",
      " 12  access                            2096 non-null   object \n",
      " 13  interaction                       2031 non-null   object \n",
      " 14  house_rules                       2393 non-null   object \n",
      " 15  thumbnail_url                     2986 non-null   object \n",
      " 16  medium_url                        2986 non-null   object \n",
      " 17  picture_url                       3585 non-null   object \n",
      " 18  xl_picture_url                    2986 non-null   object \n",
      " 19  host_id                           3585 non-null   int64  \n",
      " 20  host_url                          3585 non-null   object \n",
      " 21  host_name                         3585 non-null   object \n",
      " 22  host_since                        3585 non-null   object \n",
      " 23  host_location                     3574 non-null   object \n",
      " 24  host_about                        2276 non-null   object \n",
      " 25  host_response_time                3114 non-null   object \n",
      " 26  host_response_rate                3114 non-null   object \n",
      " 27  host_acceptance_rate              3114 non-null   object \n",
      " 28  host_is_superhost                 3585 non-null   object \n",
      " 29  host_thumbnail_url                3585 non-null   object \n",
      " 30  host_picture_url                  3585 non-null   object \n",
      " 31  host_neighbourhood                3246 non-null   object \n",
      " 32  host_listings_count               3585 non-null   int64  \n",
      " 33  host_total_listings_count         3585 non-null   int64  \n",
      " 34  host_verifications                3585 non-null   object \n",
      " 35  host_has_profile_pic              3585 non-null   object \n",
      " 36  host_identity_verified            3585 non-null   object \n",
      " 37  street                            3585 non-null   object \n",
      " 38  neighbourhood                     3042 non-null   object \n",
      " 39  neighbourhood_cleansed            3585 non-null   object \n",
      " 40  neighbourhood_group_cleansed      0 non-null      float64\n",
      " 41  city                              3583 non-null   object \n",
      " 42  state                             3585 non-null   object \n",
      " 43  zipcode                           3547 non-null   object \n",
      " 44  market                            3571 non-null   object \n",
      " 45  smart_location                    3585 non-null   object \n",
      " 46  country_code                      3585 non-null   object \n",
      " 47  country                           3585 non-null   object \n",
      " 48  latitude                          3585 non-null   float64\n",
      " 49  longitude                         3585 non-null   float64\n",
      " 50  is_location_exact                 3585 non-null   object \n",
      " 51  property_type                     3582 non-null   object \n",
      " 52  room_type                         3585 non-null   object \n",
      " 53  accommodates                      3585 non-null   int64  \n",
      " 54  bathrooms                         3571 non-null   float64\n",
      " 55  bedrooms                          3575 non-null   float64\n",
      " 56  beds                              3576 non-null   float64\n",
      " 57  bed_type                          3585 non-null   object \n",
      " 58  amenities                         3585 non-null   object \n",
      " 59  square_feet                       56 non-null     float64\n",
      " 60  price                             3585 non-null   object \n",
      " 61  weekly_price                      892 non-null    object \n",
      " 62  monthly_price                     888 non-null    object \n",
      " 63  security_deposit                  1342 non-null   object \n",
      " 64  cleaning_fee                      2478 non-null   object \n",
      " 65  guests_included                   3585 non-null   int64  \n",
      " 66  extra_people                      3585 non-null   object \n",
      " 67  minimum_nights                    3585 non-null   int64  \n",
      " 68  maximum_nights                    3585 non-null   int64  \n",
      " 69  calendar_updated                  3585 non-null   object \n",
      " 70  has_availability                  0 non-null      float64\n",
      " 71  availability_30                   3585 non-null   int64  \n",
      " 72  availability_60                   3585 non-null   int64  \n",
      " 73  availability_90                   3585 non-null   int64  \n",
      " 74  availability_365                  3585 non-null   int64  \n",
      " 75  calendar_last_scraped             3585 non-null   object \n",
      " 76  number_of_reviews                 3585 non-null   int64  \n",
      " 77  first_review                      2829 non-null   object \n",
      " 78  last_review                       2829 non-null   object \n",
      " 79  review_scores_rating              2772 non-null   float64\n",
      " 80  review_scores_accuracy            2762 non-null   float64\n",
      " 81  review_scores_cleanliness         2767 non-null   float64\n",
      " 82  review_scores_checkin             2765 non-null   float64\n",
      " 83  review_scores_communication       2767 non-null   float64\n",
      " 84  review_scores_location            2763 non-null   float64\n",
      " 85  review_scores_value               2764 non-null   float64\n",
      " 86  requires_license                  3585 non-null   object \n",
      " 87  license                           0 non-null      float64\n",
      " 88  jurisdiction_names                0 non-null      float64\n",
      " 89  instant_bookable                  3585 non-null   object \n",
      " 90  cancellation_policy               3585 non-null   object \n",
      " 91  require_guest_profile_picture     3585 non-null   object \n",
      " 92  require_guest_phone_verification  3585 non-null   object \n",
      " 93  calculated_host_listings_count    3585 non-null   int64  \n",
      " 94  reviews_per_month                 2829 non-null   float64\n",
      "dtypes: float64(18), int64(15), object(62)\n",
      "memory usage: 2.6+ MB\n"
     ]
    }
   ],
   "source": [
    "boston.info()"
   ]
  },
  {
   "cell_type": "code",
   "execution_count": 7,
   "id": "b9ccebfa",
   "metadata": {
    "scrolled": false
   },
   "outputs": [
    {
     "data": {
      "text/plain": [
       "Index(['id', 'listing_url', 'scrape_id', 'last_scraped', 'name', 'summary',\n",
       "       'space', 'description', 'experiences_offered', 'neighborhood_overview',\n",
       "       'notes', 'transit', 'access', 'interaction', 'house_rules',\n",
       "       'thumbnail_url', 'medium_url', 'picture_url', 'xl_picture_url',\n",
       "       'host_id', 'host_url', 'host_name', 'host_since', 'host_location',\n",
       "       'host_about', 'host_response_time', 'host_response_rate',\n",
       "       'host_acceptance_rate', 'host_is_superhost', 'host_thumbnail_url',\n",
       "       'host_picture_url', 'host_neighbourhood', 'host_listings_count',\n",
       "       'host_total_listings_count', 'host_verifications',\n",
       "       'host_has_profile_pic', 'host_identity_verified', 'street',\n",
       "       'neighbourhood', 'neighbourhood_cleansed',\n",
       "       'neighbourhood_group_cleansed', 'city', 'state', 'zipcode', 'market',\n",
       "       'smart_location', 'country_code', 'country', 'latitude', 'longitude',\n",
       "       'is_location_exact', 'property_type', 'room_type', 'accommodates',\n",
       "       'bathrooms', 'bedrooms', 'beds', 'bed_type', 'amenities', 'square_feet',\n",
       "       'price', 'weekly_price', 'monthly_price', 'security_deposit',\n",
       "       'cleaning_fee', 'guests_included', 'extra_people', 'minimum_nights',\n",
       "       'maximum_nights', 'calendar_updated', 'has_availability',\n",
       "       'availability_30', 'availability_60', 'availability_90',\n",
       "       'availability_365', 'calendar_last_scraped', 'number_of_reviews',\n",
       "       'first_review', 'last_review', 'review_scores_rating',\n",
       "       'review_scores_accuracy', 'review_scores_cleanliness',\n",
       "       'review_scores_checkin', 'review_scores_communication',\n",
       "       'review_scores_location', 'review_scores_value', 'requires_license',\n",
       "       'license', 'jurisdiction_names', 'instant_bookable',\n",
       "       'cancellation_policy', 'require_guest_profile_picture',\n",
       "       'require_guest_phone_verification', 'calculated_host_listings_count',\n",
       "       'reviews_per_month'],\n",
       "      dtype='object')"
      ]
     },
     "execution_count": 7,
     "metadata": {},
     "output_type": "execute_result"
    }
   ],
   "source": [
    "boston.columns"
   ]
  },
  {
   "cell_type": "code",
   "execution_count": 8,
   "id": "f38fa24a",
   "metadata": {},
   "outputs": [
    {
     "data": {
      "text/html": [
       "<div>\n",
       "<style scoped>\n",
       "    .dataframe tbody tr th:only-of-type {\n",
       "        vertical-align: middle;\n",
       "    }\n",
       "\n",
       "    .dataframe tbody tr th {\n",
       "        vertical-align: top;\n",
       "    }\n",
       "\n",
       "    .dataframe thead th {\n",
       "        text-align: right;\n",
       "    }\n",
       "</style>\n",
       "<table border=\"1\" class=\"dataframe\">\n",
       "  <thead>\n",
       "    <tr style=\"text-align: right;\">\n",
       "      <th></th>\n",
       "      <th>count</th>\n",
       "      <th>mean</th>\n",
       "      <th>std</th>\n",
       "      <th>min</th>\n",
       "      <th>25%</th>\n",
       "      <th>50%</th>\n",
       "      <th>75%</th>\n",
       "      <th>max</th>\n",
       "    </tr>\n",
       "  </thead>\n",
       "  <tbody>\n",
       "    <tr>\n",
       "      <th>id</th>\n",
       "      <td>3585.0</td>\n",
       "      <td>8.440875e+06</td>\n",
       "      <td>4.500787e+06</td>\n",
       "      <td>3.353000e+03</td>\n",
       "      <td>4.679319e+06</td>\n",
       "      <td>8.577620e+06</td>\n",
       "      <td>1.278953e+07</td>\n",
       "      <td>1.493346e+07</td>\n",
       "    </tr>\n",
       "    <tr>\n",
       "      <th>scrape_id</th>\n",
       "      <td>3585.0</td>\n",
       "      <td>2.016091e+13</td>\n",
       "      <td>8.516813e-01</td>\n",
       "      <td>2.016091e+13</td>\n",
       "      <td>2.016091e+13</td>\n",
       "      <td>2.016091e+13</td>\n",
       "      <td>2.016091e+13</td>\n",
       "      <td>2.016091e+13</td>\n",
       "    </tr>\n",
       "    <tr>\n",
       "      <th>host_id</th>\n",
       "      <td>3585.0</td>\n",
       "      <td>2.492311e+07</td>\n",
       "      <td>2.292781e+07</td>\n",
       "      <td>4.240000e+03</td>\n",
       "      <td>6.103425e+06</td>\n",
       "      <td>1.928100e+07</td>\n",
       "      <td>3.622147e+07</td>\n",
       "      <td>9.385411e+07</td>\n",
       "    </tr>\n",
       "    <tr>\n",
       "      <th>host_listings_count</th>\n",
       "      <td>3585.0</td>\n",
       "      <td>5.890237e+01</td>\n",
       "      <td>1.711197e+02</td>\n",
       "      <td>0.000000e+00</td>\n",
       "      <td>1.000000e+00</td>\n",
       "      <td>2.000000e+00</td>\n",
       "      <td>7.000000e+00</td>\n",
       "      <td>7.490000e+02</td>\n",
       "    </tr>\n",
       "    <tr>\n",
       "      <th>host_total_listings_count</th>\n",
       "      <td>3585.0</td>\n",
       "      <td>5.890237e+01</td>\n",
       "      <td>1.711197e+02</td>\n",
       "      <td>0.000000e+00</td>\n",
       "      <td>1.000000e+00</td>\n",
       "      <td>2.000000e+00</td>\n",
       "      <td>7.000000e+00</td>\n",
       "      <td>7.490000e+02</td>\n",
       "    </tr>\n",
       "    <tr>\n",
       "      <th>neighbourhood_group_cleansed</th>\n",
       "      <td>0.0</td>\n",
       "      <td>NaN</td>\n",
       "      <td>NaN</td>\n",
       "      <td>NaN</td>\n",
       "      <td>NaN</td>\n",
       "      <td>NaN</td>\n",
       "      <td>NaN</td>\n",
       "      <td>NaN</td>\n",
       "    </tr>\n",
       "    <tr>\n",
       "      <th>latitude</th>\n",
       "      <td>3585.0</td>\n",
       "      <td>4.234003e+01</td>\n",
       "      <td>2.440255e-02</td>\n",
       "      <td>4.223594e+01</td>\n",
       "      <td>4.232999e+01</td>\n",
       "      <td>4.234520e+01</td>\n",
       "      <td>4.235469e+01</td>\n",
       "      <td>4.238998e+01</td>\n",
       "    </tr>\n",
       "    <tr>\n",
       "      <th>longitude</th>\n",
       "      <td>3585.0</td>\n",
       "      <td>-7.108482e+01</td>\n",
       "      <td>3.156464e-02</td>\n",
       "      <td>-7.117179e+01</td>\n",
       "      <td>-7.110508e+01</td>\n",
       "      <td>-7.107843e+01</td>\n",
       "      <td>-7.106215e+01</td>\n",
       "      <td>-7.100010e+01</td>\n",
       "    </tr>\n",
       "    <tr>\n",
       "      <th>accommodates</th>\n",
       "      <td>3585.0</td>\n",
       "      <td>3.041283e+00</td>\n",
       "      <td>1.778929e+00</td>\n",
       "      <td>1.000000e+00</td>\n",
       "      <td>2.000000e+00</td>\n",
       "      <td>2.000000e+00</td>\n",
       "      <td>4.000000e+00</td>\n",
       "      <td>1.600000e+01</td>\n",
       "    </tr>\n",
       "    <tr>\n",
       "      <th>bathrooms</th>\n",
       "      <td>3571.0</td>\n",
       "      <td>1.221647e+00</td>\n",
       "      <td>5.014871e-01</td>\n",
       "      <td>0.000000e+00</td>\n",
       "      <td>1.000000e+00</td>\n",
       "      <td>1.000000e+00</td>\n",
       "      <td>1.000000e+00</td>\n",
       "      <td>6.000000e+00</td>\n",
       "    </tr>\n",
       "    <tr>\n",
       "      <th>bedrooms</th>\n",
       "      <td>3575.0</td>\n",
       "      <td>1.255944e+00</td>\n",
       "      <td>7.530596e-01</td>\n",
       "      <td>0.000000e+00</td>\n",
       "      <td>1.000000e+00</td>\n",
       "      <td>1.000000e+00</td>\n",
       "      <td>2.000000e+00</td>\n",
       "      <td>5.000000e+00</td>\n",
       "    </tr>\n",
       "    <tr>\n",
       "      <th>beds</th>\n",
       "      <td>3576.0</td>\n",
       "      <td>1.609060e+00</td>\n",
       "      <td>1.011745e+00</td>\n",
       "      <td>0.000000e+00</td>\n",
       "      <td>1.000000e+00</td>\n",
       "      <td>1.000000e+00</td>\n",
       "      <td>2.000000e+00</td>\n",
       "      <td>1.600000e+01</td>\n",
       "    </tr>\n",
       "    <tr>\n",
       "      <th>square_feet</th>\n",
       "      <td>56.0</td>\n",
       "      <td>8.584643e+02</td>\n",
       "      <td>6.088743e+02</td>\n",
       "      <td>0.000000e+00</td>\n",
       "      <td>4.150000e+02</td>\n",
       "      <td>8.250000e+02</td>\n",
       "      <td>1.200000e+03</td>\n",
       "      <td>2.400000e+03</td>\n",
       "    </tr>\n",
       "    <tr>\n",
       "      <th>guests_included</th>\n",
       "      <td>3585.0</td>\n",
       "      <td>1.429847e+00</td>\n",
       "      <td>1.056787e+00</td>\n",
       "      <td>0.000000e+00</td>\n",
       "      <td>1.000000e+00</td>\n",
       "      <td>1.000000e+00</td>\n",
       "      <td>1.000000e+00</td>\n",
       "      <td>1.400000e+01</td>\n",
       "    </tr>\n",
       "    <tr>\n",
       "      <th>minimum_nights</th>\n",
       "      <td>3585.0</td>\n",
       "      <td>3.171269e+00</td>\n",
       "      <td>8.874133e+00</td>\n",
       "      <td>1.000000e+00</td>\n",
       "      <td>1.000000e+00</td>\n",
       "      <td>2.000000e+00</td>\n",
       "      <td>3.000000e+00</td>\n",
       "      <td>3.000000e+02</td>\n",
       "    </tr>\n",
       "    <tr>\n",
       "      <th>maximum_nights</th>\n",
       "      <td>3585.0</td>\n",
       "      <td>2.872584e+04</td>\n",
       "      <td>1.670136e+06</td>\n",
       "      <td>1.000000e+00</td>\n",
       "      <td>3.650000e+02</td>\n",
       "      <td>1.125000e+03</td>\n",
       "      <td>1.125000e+03</td>\n",
       "      <td>1.000000e+08</td>\n",
       "    </tr>\n",
       "    <tr>\n",
       "      <th>has_availability</th>\n",
       "      <td>0.0</td>\n",
       "      <td>NaN</td>\n",
       "      <td>NaN</td>\n",
       "      <td>NaN</td>\n",
       "      <td>NaN</td>\n",
       "      <td>NaN</td>\n",
       "      <td>NaN</td>\n",
       "      <td>NaN</td>\n",
       "    </tr>\n",
       "    <tr>\n",
       "      <th>availability_30</th>\n",
       "      <td>3585.0</td>\n",
       "      <td>8.649930e+00</td>\n",
       "      <td>1.043533e+01</td>\n",
       "      <td>0.000000e+00</td>\n",
       "      <td>0.000000e+00</td>\n",
       "      <td>4.000000e+00</td>\n",
       "      <td>1.500000e+01</td>\n",
       "      <td>3.000000e+01</td>\n",
       "    </tr>\n",
       "    <tr>\n",
       "      <th>availability_60</th>\n",
       "      <td>3585.0</td>\n",
       "      <td>2.183319e+01</td>\n",
       "      <td>2.186097e+01</td>\n",
       "      <td>0.000000e+00</td>\n",
       "      <td>0.000000e+00</td>\n",
       "      <td>1.600000e+01</td>\n",
       "      <td>4.000000e+01</td>\n",
       "      <td>6.000000e+01</td>\n",
       "    </tr>\n",
       "    <tr>\n",
       "      <th>availability_90</th>\n",
       "      <td>3585.0</td>\n",
       "      <td>3.855816e+01</td>\n",
       "      <td>3.315827e+01</td>\n",
       "      <td>0.000000e+00</td>\n",
       "      <td>0.000000e+00</td>\n",
       "      <td>3.700000e+01</td>\n",
       "      <td>6.800000e+01</td>\n",
       "      <td>9.000000e+01</td>\n",
       "    </tr>\n",
       "    <tr>\n",
       "      <th>availability_365</th>\n",
       "      <td>3585.0</td>\n",
       "      <td>1.793464e+02</td>\n",
       "      <td>1.421362e+02</td>\n",
       "      <td>0.000000e+00</td>\n",
       "      <td>1.900000e+01</td>\n",
       "      <td>1.790000e+02</td>\n",
       "      <td>3.250000e+02</td>\n",
       "      <td>3.650000e+02</td>\n",
       "    </tr>\n",
       "    <tr>\n",
       "      <th>number_of_reviews</th>\n",
       "      <td>3585.0</td>\n",
       "      <td>1.904463e+01</td>\n",
       "      <td>3.557166e+01</td>\n",
       "      <td>0.000000e+00</td>\n",
       "      <td>1.000000e+00</td>\n",
       "      <td>5.000000e+00</td>\n",
       "      <td>2.100000e+01</td>\n",
       "      <td>4.040000e+02</td>\n",
       "    </tr>\n",
       "    <tr>\n",
       "      <th>review_scores_rating</th>\n",
       "      <td>2772.0</td>\n",
       "      <td>9.191667e+01</td>\n",
       "      <td>9.531686e+00</td>\n",
       "      <td>2.000000e+01</td>\n",
       "      <td>8.900000e+01</td>\n",
       "      <td>9.400000e+01</td>\n",
       "      <td>9.825000e+01</td>\n",
       "      <td>1.000000e+02</td>\n",
       "    </tr>\n",
       "    <tr>\n",
       "      <th>review_scores_accuracy</th>\n",
       "      <td>2762.0</td>\n",
       "      <td>9.431571e+00</td>\n",
       "      <td>9.318632e-01</td>\n",
       "      <td>2.000000e+00</td>\n",
       "      <td>9.000000e+00</td>\n",
       "      <td>1.000000e+01</td>\n",
       "      <td>1.000000e+01</td>\n",
       "      <td>1.000000e+01</td>\n",
       "    </tr>\n",
       "    <tr>\n",
       "      <th>review_scores_cleanliness</th>\n",
       "      <td>2767.0</td>\n",
       "      <td>9.258041e+00</td>\n",
       "      <td>1.168977e+00</td>\n",
       "      <td>2.000000e+00</td>\n",
       "      <td>9.000000e+00</td>\n",
       "      <td>1.000000e+01</td>\n",
       "      <td>1.000000e+01</td>\n",
       "      <td>1.000000e+01</td>\n",
       "    </tr>\n",
       "    <tr>\n",
       "      <th>review_scores_checkin</th>\n",
       "      <td>2765.0</td>\n",
       "      <td>9.646293e+00</td>\n",
       "      <td>7.627532e-01</td>\n",
       "      <td>2.000000e+00</td>\n",
       "      <td>9.000000e+00</td>\n",
       "      <td>1.000000e+01</td>\n",
       "      <td>1.000000e+01</td>\n",
       "      <td>1.000000e+01</td>\n",
       "    </tr>\n",
       "    <tr>\n",
       "      <th>review_scores_communication</th>\n",
       "      <td>2767.0</td>\n",
       "      <td>9.646549e+00</td>\n",
       "      <td>7.355070e-01</td>\n",
       "      <td>4.000000e+00</td>\n",
       "      <td>9.000000e+00</td>\n",
       "      <td>1.000000e+01</td>\n",
       "      <td>1.000000e+01</td>\n",
       "      <td>1.000000e+01</td>\n",
       "    </tr>\n",
       "    <tr>\n",
       "      <th>review_scores_location</th>\n",
       "      <td>2763.0</td>\n",
       "      <td>9.414043e+00</td>\n",
       "      <td>9.034360e-01</td>\n",
       "      <td>2.000000e+00</td>\n",
       "      <td>9.000000e+00</td>\n",
       "      <td>1.000000e+01</td>\n",
       "      <td>1.000000e+01</td>\n",
       "      <td>1.000000e+01</td>\n",
       "    </tr>\n",
       "    <tr>\n",
       "      <th>review_scores_value</th>\n",
       "      <td>2764.0</td>\n",
       "      <td>9.168234e+00</td>\n",
       "      <td>1.011116e+00</td>\n",
       "      <td>2.000000e+00</td>\n",
       "      <td>9.000000e+00</td>\n",
       "      <td>9.000000e+00</td>\n",
       "      <td>1.000000e+01</td>\n",
       "      <td>1.000000e+01</td>\n",
       "    </tr>\n",
       "    <tr>\n",
       "      <th>license</th>\n",
       "      <td>0.0</td>\n",
       "      <td>NaN</td>\n",
       "      <td>NaN</td>\n",
       "      <td>NaN</td>\n",
       "      <td>NaN</td>\n",
       "      <td>NaN</td>\n",
       "      <td>NaN</td>\n",
       "      <td>NaN</td>\n",
       "    </tr>\n",
       "    <tr>\n",
       "      <th>jurisdiction_names</th>\n",
       "      <td>0.0</td>\n",
       "      <td>NaN</td>\n",
       "      <td>NaN</td>\n",
       "      <td>NaN</td>\n",
       "      <td>NaN</td>\n",
       "      <td>NaN</td>\n",
       "      <td>NaN</td>\n",
       "      <td>NaN</td>\n",
       "    </tr>\n",
       "    <tr>\n",
       "      <th>calculated_host_listings_count</th>\n",
       "      <td>3585.0</td>\n",
       "      <td>1.273389e+01</td>\n",
       "      <td>2.941508e+01</td>\n",
       "      <td>1.000000e+00</td>\n",
       "      <td>1.000000e+00</td>\n",
       "      <td>2.000000e+00</td>\n",
       "      <td>6.000000e+00</td>\n",
       "      <td>1.360000e+02</td>\n",
       "    </tr>\n",
       "    <tr>\n",
       "      <th>reviews_per_month</th>\n",
       "      <td>2829.0</td>\n",
       "      <td>1.970908e+00</td>\n",
       "      <td>2.120561e+00</td>\n",
       "      <td>1.000000e-02</td>\n",
       "      <td>4.800000e-01</td>\n",
       "      <td>1.170000e+00</td>\n",
       "      <td>2.720000e+00</td>\n",
       "      <td>1.915000e+01</td>\n",
       "    </tr>\n",
       "  </tbody>\n",
       "</table>\n",
       "</div>"
      ],
      "text/plain": [
       "                                 count          mean           std  \\\n",
       "id                              3585.0  8.440875e+06  4.500787e+06   \n",
       "scrape_id                       3585.0  2.016091e+13  8.516813e-01   \n",
       "host_id                         3585.0  2.492311e+07  2.292781e+07   \n",
       "host_listings_count             3585.0  5.890237e+01  1.711197e+02   \n",
       "host_total_listings_count       3585.0  5.890237e+01  1.711197e+02   \n",
       "neighbourhood_group_cleansed       0.0           NaN           NaN   \n",
       "latitude                        3585.0  4.234003e+01  2.440255e-02   \n",
       "longitude                       3585.0 -7.108482e+01  3.156464e-02   \n",
       "accommodates                    3585.0  3.041283e+00  1.778929e+00   \n",
       "bathrooms                       3571.0  1.221647e+00  5.014871e-01   \n",
       "bedrooms                        3575.0  1.255944e+00  7.530596e-01   \n",
       "beds                            3576.0  1.609060e+00  1.011745e+00   \n",
       "square_feet                       56.0  8.584643e+02  6.088743e+02   \n",
       "guests_included                 3585.0  1.429847e+00  1.056787e+00   \n",
       "minimum_nights                  3585.0  3.171269e+00  8.874133e+00   \n",
       "maximum_nights                  3585.0  2.872584e+04  1.670136e+06   \n",
       "has_availability                   0.0           NaN           NaN   \n",
       "availability_30                 3585.0  8.649930e+00  1.043533e+01   \n",
       "availability_60                 3585.0  2.183319e+01  2.186097e+01   \n",
       "availability_90                 3585.0  3.855816e+01  3.315827e+01   \n",
       "availability_365                3585.0  1.793464e+02  1.421362e+02   \n",
       "number_of_reviews               3585.0  1.904463e+01  3.557166e+01   \n",
       "review_scores_rating            2772.0  9.191667e+01  9.531686e+00   \n",
       "review_scores_accuracy          2762.0  9.431571e+00  9.318632e-01   \n",
       "review_scores_cleanliness       2767.0  9.258041e+00  1.168977e+00   \n",
       "review_scores_checkin           2765.0  9.646293e+00  7.627532e-01   \n",
       "review_scores_communication     2767.0  9.646549e+00  7.355070e-01   \n",
       "review_scores_location          2763.0  9.414043e+00  9.034360e-01   \n",
       "review_scores_value             2764.0  9.168234e+00  1.011116e+00   \n",
       "license                            0.0           NaN           NaN   \n",
       "jurisdiction_names                 0.0           NaN           NaN   \n",
       "calculated_host_listings_count  3585.0  1.273389e+01  2.941508e+01   \n",
       "reviews_per_month               2829.0  1.970908e+00  2.120561e+00   \n",
       "\n",
       "                                         min           25%           50%  \\\n",
       "id                              3.353000e+03  4.679319e+06  8.577620e+06   \n",
       "scrape_id                       2.016091e+13  2.016091e+13  2.016091e+13   \n",
       "host_id                         4.240000e+03  6.103425e+06  1.928100e+07   \n",
       "host_listings_count             0.000000e+00  1.000000e+00  2.000000e+00   \n",
       "host_total_listings_count       0.000000e+00  1.000000e+00  2.000000e+00   \n",
       "neighbourhood_group_cleansed             NaN           NaN           NaN   \n",
       "latitude                        4.223594e+01  4.232999e+01  4.234520e+01   \n",
       "longitude                      -7.117179e+01 -7.110508e+01 -7.107843e+01   \n",
       "accommodates                    1.000000e+00  2.000000e+00  2.000000e+00   \n",
       "bathrooms                       0.000000e+00  1.000000e+00  1.000000e+00   \n",
       "bedrooms                        0.000000e+00  1.000000e+00  1.000000e+00   \n",
       "beds                            0.000000e+00  1.000000e+00  1.000000e+00   \n",
       "square_feet                     0.000000e+00  4.150000e+02  8.250000e+02   \n",
       "guests_included                 0.000000e+00  1.000000e+00  1.000000e+00   \n",
       "minimum_nights                  1.000000e+00  1.000000e+00  2.000000e+00   \n",
       "maximum_nights                  1.000000e+00  3.650000e+02  1.125000e+03   \n",
       "has_availability                         NaN           NaN           NaN   \n",
       "availability_30                 0.000000e+00  0.000000e+00  4.000000e+00   \n",
       "availability_60                 0.000000e+00  0.000000e+00  1.600000e+01   \n",
       "availability_90                 0.000000e+00  0.000000e+00  3.700000e+01   \n",
       "availability_365                0.000000e+00  1.900000e+01  1.790000e+02   \n",
       "number_of_reviews               0.000000e+00  1.000000e+00  5.000000e+00   \n",
       "review_scores_rating            2.000000e+01  8.900000e+01  9.400000e+01   \n",
       "review_scores_accuracy          2.000000e+00  9.000000e+00  1.000000e+01   \n",
       "review_scores_cleanliness       2.000000e+00  9.000000e+00  1.000000e+01   \n",
       "review_scores_checkin           2.000000e+00  9.000000e+00  1.000000e+01   \n",
       "review_scores_communication     4.000000e+00  9.000000e+00  1.000000e+01   \n",
       "review_scores_location          2.000000e+00  9.000000e+00  1.000000e+01   \n",
       "review_scores_value             2.000000e+00  9.000000e+00  9.000000e+00   \n",
       "license                                  NaN           NaN           NaN   \n",
       "jurisdiction_names                       NaN           NaN           NaN   \n",
       "calculated_host_listings_count  1.000000e+00  1.000000e+00  2.000000e+00   \n",
       "reviews_per_month               1.000000e-02  4.800000e-01  1.170000e+00   \n",
       "\n",
       "                                         75%           max  \n",
       "id                              1.278953e+07  1.493346e+07  \n",
       "scrape_id                       2.016091e+13  2.016091e+13  \n",
       "host_id                         3.622147e+07  9.385411e+07  \n",
       "host_listings_count             7.000000e+00  7.490000e+02  \n",
       "host_total_listings_count       7.000000e+00  7.490000e+02  \n",
       "neighbourhood_group_cleansed             NaN           NaN  \n",
       "latitude                        4.235469e+01  4.238998e+01  \n",
       "longitude                      -7.106215e+01 -7.100010e+01  \n",
       "accommodates                    4.000000e+00  1.600000e+01  \n",
       "bathrooms                       1.000000e+00  6.000000e+00  \n",
       "bedrooms                        2.000000e+00  5.000000e+00  \n",
       "beds                            2.000000e+00  1.600000e+01  \n",
       "square_feet                     1.200000e+03  2.400000e+03  \n",
       "guests_included                 1.000000e+00  1.400000e+01  \n",
       "minimum_nights                  3.000000e+00  3.000000e+02  \n",
       "maximum_nights                  1.125000e+03  1.000000e+08  \n",
       "has_availability                         NaN           NaN  \n",
       "availability_30                 1.500000e+01  3.000000e+01  \n",
       "availability_60                 4.000000e+01  6.000000e+01  \n",
       "availability_90                 6.800000e+01  9.000000e+01  \n",
       "availability_365                3.250000e+02  3.650000e+02  \n",
       "number_of_reviews               2.100000e+01  4.040000e+02  \n",
       "review_scores_rating            9.825000e+01  1.000000e+02  \n",
       "review_scores_accuracy          1.000000e+01  1.000000e+01  \n",
       "review_scores_cleanliness       1.000000e+01  1.000000e+01  \n",
       "review_scores_checkin           1.000000e+01  1.000000e+01  \n",
       "review_scores_communication     1.000000e+01  1.000000e+01  \n",
       "review_scores_location          1.000000e+01  1.000000e+01  \n",
       "review_scores_value             1.000000e+01  1.000000e+01  \n",
       "license                                  NaN           NaN  \n",
       "jurisdiction_names                       NaN           NaN  \n",
       "calculated_host_listings_count  6.000000e+00  1.360000e+02  \n",
       "reviews_per_month               2.720000e+00  1.915000e+01  "
      ]
     },
     "execution_count": 8,
     "metadata": {},
     "output_type": "execute_result"
    }
   ],
   "source": [
    "boston.describe().T"
   ]
  },
  {
   "cell_type": "markdown",
   "id": "ae60d675",
   "metadata": {},
   "source": [
    "### Seattle:"
   ]
  },
  {
   "cell_type": "code",
   "execution_count": 9,
   "id": "b32fbe96",
   "metadata": {},
   "outputs": [
    {
     "data": {
      "text/plain": [
       "(3818, 92)"
      ]
     },
     "execution_count": 9,
     "metadata": {},
     "output_type": "execute_result"
    }
   ],
   "source": [
    "seattle.shape"
   ]
  },
  {
   "cell_type": "code",
   "execution_count": 10,
   "id": "0d9027bd",
   "metadata": {},
   "outputs": [
    {
     "name": "stdout",
     "output_type": "stream",
     "text": [
      "<class 'pandas.core.frame.DataFrame'>\n",
      "RangeIndex: 3818 entries, 0 to 3817\n",
      "Data columns (total 92 columns):\n",
      " #   Column                            Non-Null Count  Dtype  \n",
      "---  ------                            --------------  -----  \n",
      " 0   id                                3818 non-null   int64  \n",
      " 1   listing_url                       3818 non-null   object \n",
      " 2   scrape_id                         3818 non-null   int64  \n",
      " 3   last_scraped                      3818 non-null   object \n",
      " 4   name                              3818 non-null   object \n",
      " 5   summary                           3641 non-null   object \n",
      " 6   space                             3249 non-null   object \n",
      " 7   description                       3818 non-null   object \n",
      " 8   experiences_offered               3818 non-null   object \n",
      " 9   neighborhood_overview             2786 non-null   object \n",
      " 10  notes                             2212 non-null   object \n",
      " 11  transit                           2884 non-null   object \n",
      " 12  thumbnail_url                     3498 non-null   object \n",
      " 13  medium_url                        3498 non-null   object \n",
      " 14  picture_url                       3818 non-null   object \n",
      " 15  xl_picture_url                    3498 non-null   object \n",
      " 16  host_id                           3818 non-null   int64  \n",
      " 17  host_url                          3818 non-null   object \n",
      " 18  host_name                         3816 non-null   object \n",
      " 19  host_since                        3816 non-null   object \n",
      " 20  host_location                     3810 non-null   object \n",
      " 21  host_about                        2959 non-null   object \n",
      " 22  host_response_time                3295 non-null   object \n",
      " 23  host_response_rate                3295 non-null   object \n",
      " 24  host_acceptance_rate              3045 non-null   object \n",
      " 25  host_is_superhost                 3816 non-null   object \n",
      " 26  host_thumbnail_url                3816 non-null   object \n",
      " 27  host_picture_url                  3816 non-null   object \n",
      " 28  host_neighbourhood                3518 non-null   object \n",
      " 29  host_listings_count               3816 non-null   float64\n",
      " 30  host_total_listings_count         3816 non-null   float64\n",
      " 31  host_verifications                3818 non-null   object \n",
      " 32  host_has_profile_pic              3816 non-null   object \n",
      " 33  host_identity_verified            3816 non-null   object \n",
      " 34  street                            3818 non-null   object \n",
      " 35  neighbourhood                     3402 non-null   object \n",
      " 36  neighbourhood_cleansed            3818 non-null   object \n",
      " 37  neighbourhood_group_cleansed      3818 non-null   object \n",
      " 38  city                              3818 non-null   object \n",
      " 39  state                             3818 non-null   object \n",
      " 40  zipcode                           3811 non-null   object \n",
      " 41  market                            3818 non-null   object \n",
      " 42  smart_location                    3818 non-null   object \n",
      " 43  country_code                      3818 non-null   object \n",
      " 44  country                           3818 non-null   object \n",
      " 45  latitude                          3818 non-null   float64\n",
      " 46  longitude                         3818 non-null   float64\n",
      " 47  is_location_exact                 3818 non-null   object \n",
      " 48  property_type                     3817 non-null   object \n",
      " 49  room_type                         3818 non-null   object \n",
      " 50  accommodates                      3818 non-null   int64  \n",
      " 51  bathrooms                         3802 non-null   float64\n",
      " 52  bedrooms                          3812 non-null   float64\n",
      " 53  beds                              3817 non-null   float64\n",
      " 54  bed_type                          3818 non-null   object \n",
      " 55  amenities                         3818 non-null   object \n",
      " 56  square_feet                       97 non-null     float64\n",
      " 57  price                             3818 non-null   object \n",
      " 58  weekly_price                      2009 non-null   object \n",
      " 59  monthly_price                     1517 non-null   object \n",
      " 60  security_deposit                  1866 non-null   object \n",
      " 61  cleaning_fee                      2788 non-null   object \n",
      " 62  guests_included                   3818 non-null   int64  \n",
      " 63  extra_people                      3818 non-null   object \n",
      " 64  minimum_nights                    3818 non-null   int64  \n",
      " 65  maximum_nights                    3818 non-null   int64  \n",
      " 66  calendar_updated                  3818 non-null   object \n",
      " 67  has_availability                  3818 non-null   object \n",
      " 68  availability_30                   3818 non-null   int64  \n",
      " 69  availability_60                   3818 non-null   int64  \n",
      " 70  availability_90                   3818 non-null   int64  \n",
      " 71  availability_365                  3818 non-null   int64  \n",
      " 72  calendar_last_scraped             3818 non-null   object \n",
      " 73  number_of_reviews                 3818 non-null   int64  \n",
      " 74  first_review                      3191 non-null   object \n",
      " 75  last_review                       3191 non-null   object \n",
      " 76  review_scores_rating              3171 non-null   float64\n",
      " 77  review_scores_accuracy            3160 non-null   float64\n",
      " 78  review_scores_cleanliness         3165 non-null   float64\n",
      " 79  review_scores_checkin             3160 non-null   float64\n",
      " 80  review_scores_communication       3167 non-null   float64\n",
      " 81  review_scores_location            3163 non-null   float64\n",
      " 82  review_scores_value               3162 non-null   float64\n",
      " 83  requires_license                  3818 non-null   object \n",
      " 84  license                           0 non-null      float64\n",
      " 85  jurisdiction_names                3818 non-null   object \n",
      " 86  instant_bookable                  3818 non-null   object \n",
      " 87  cancellation_policy               3818 non-null   object \n",
      " 88  require_guest_profile_picture     3818 non-null   object \n",
      " 89  require_guest_phone_verification  3818 non-null   object \n",
      " 90  calculated_host_listings_count    3818 non-null   int64  \n",
      " 91  reviews_per_month                 3191 non-null   float64\n",
      "dtypes: float64(17), int64(13), object(62)\n",
      "memory usage: 2.7+ MB\n"
     ]
    }
   ],
   "source": [
    "seattle.info()"
   ]
  },
  {
   "cell_type": "code",
   "execution_count": 11,
   "id": "c4848add",
   "metadata": {},
   "outputs": [
    {
     "data": {
      "text/plain": [
       "Index(['id', 'listing_url', 'scrape_id', 'last_scraped', 'name', 'summary',\n",
       "       'space', 'description', 'experiences_offered', 'neighborhood_overview',\n",
       "       'notes', 'transit', 'thumbnail_url', 'medium_url', 'picture_url',\n",
       "       'xl_picture_url', 'host_id', 'host_url', 'host_name', 'host_since',\n",
       "       'host_location', 'host_about', 'host_response_time',\n",
       "       'host_response_rate', 'host_acceptance_rate', 'host_is_superhost',\n",
       "       'host_thumbnail_url', 'host_picture_url', 'host_neighbourhood',\n",
       "       'host_listings_count', 'host_total_listings_count',\n",
       "       'host_verifications', 'host_has_profile_pic', 'host_identity_verified',\n",
       "       'street', 'neighbourhood', 'neighbourhood_cleansed',\n",
       "       'neighbourhood_group_cleansed', 'city', 'state', 'zipcode', 'market',\n",
       "       'smart_location', 'country_code', 'country', 'latitude', 'longitude',\n",
       "       'is_location_exact', 'property_type', 'room_type', 'accommodates',\n",
       "       'bathrooms', 'bedrooms', 'beds', 'bed_type', 'amenities', 'square_feet',\n",
       "       'price', 'weekly_price', 'monthly_price', 'security_deposit',\n",
       "       'cleaning_fee', 'guests_included', 'extra_people', 'minimum_nights',\n",
       "       'maximum_nights', 'calendar_updated', 'has_availability',\n",
       "       'availability_30', 'availability_60', 'availability_90',\n",
       "       'availability_365', 'calendar_last_scraped', 'number_of_reviews',\n",
       "       'first_review', 'last_review', 'review_scores_rating',\n",
       "       'review_scores_accuracy', 'review_scores_cleanliness',\n",
       "       'review_scores_checkin', 'review_scores_communication',\n",
       "       'review_scores_location', 'review_scores_value', 'requires_license',\n",
       "       'license', 'jurisdiction_names', 'instant_bookable',\n",
       "       'cancellation_policy', 'require_guest_profile_picture',\n",
       "       'require_guest_phone_verification', 'calculated_host_listings_count',\n",
       "       'reviews_per_month'],\n",
       "      dtype='object')"
      ]
     },
     "execution_count": 11,
     "metadata": {},
     "output_type": "execute_result"
    }
   ],
   "source": [
    "seattle.columns"
   ]
  },
  {
   "cell_type": "markdown",
   "id": "6b621e9c",
   "metadata": {},
   "source": [
    "## 3. Clean"
   ]
  },
  {
   "cell_type": "markdown",
   "id": "4cddf89b",
   "metadata": {},
   "source": [
    "### Boston:"
   ]
  },
  {
   "cell_type": "code",
   "execution_count": 12,
   "id": "71a5f252",
   "metadata": {},
   "outputs": [],
   "source": [
    "#Change the datatype from the column 'price' from object to float\n",
    "boston.price=boston.price.replace('\\$|,', '', regex=True).astype(float)"
   ]
  },
  {
   "cell_type": "code",
   "execution_count": 13,
   "id": "1a973da8",
   "metadata": {},
   "outputs": [],
   "source": [
    "# Remove the outliers in the price column\n",
    "boston=boston[boston['price']<3000]"
   ]
  },
  {
   "cell_type": "code",
   "execution_count": 14,
   "id": "8c44055a",
   "metadata": {},
   "outputs": [],
   "source": [
    "#Remove the columns that are not in the Seattledataframe\n",
    "boston = boston.drop(['access', 'interaction', 'house_rules'], axis=1)"
   ]
  },
  {
   "cell_type": "code",
   "execution_count": null,
   "id": "f56cce72",
   "metadata": {},
   "outputs": [],
   "source": []
  },
  {
   "cell_type": "markdown",
   "id": "bd36d205",
   "metadata": {},
   "source": [
    "### Seattle:"
   ]
  },
  {
   "cell_type": "code",
   "execution_count": 15,
   "id": "20f4f256",
   "metadata": {},
   "outputs": [],
   "source": [
    "seattle.price=seattle.price.replace('\\$|,', '', regex=True).astype(float)"
   ]
  },
  {
   "cell_type": "code",
   "execution_count": null,
   "id": "07c3b3e1",
   "metadata": {},
   "outputs": [],
   "source": []
  },
  {
   "cell_type": "markdown",
   "id": "8c50d769",
   "metadata": {},
   "source": [
    "### Create and prepare (clean) new dataframes for the analysis:\n",
    "\n",
    "- boston_price: To analyze the relationship betweern the price and the property/room type and the number of bathrooms and bedrooms\n",
    "\n",
    "- seattle_price:"
   ]
  },
  {
   "cell_type": "markdown",
   "id": "359085c5",
   "metadata": {},
   "source": [
    "### boston_price"
   ]
  },
  {
   "cell_type": "code",
   "execution_count": 16,
   "id": "4061037e",
   "metadata": {},
   "outputs": [
    {
     "data": {
      "text/html": [
       "<div>\n",
       "<style scoped>\n",
       "    .dataframe tbody tr th:only-of-type {\n",
       "        vertical-align: middle;\n",
       "    }\n",
       "\n",
       "    .dataframe tbody tr th {\n",
       "        vertical-align: top;\n",
       "    }\n",
       "\n",
       "    .dataframe thead th {\n",
       "        text-align: right;\n",
       "    }\n",
       "</style>\n",
       "<table border=\"1\" class=\"dataframe\">\n",
       "  <thead>\n",
       "    <tr style=\"text-align: right;\">\n",
       "      <th></th>\n",
       "      <th>price</th>\n",
       "      <th>property_type</th>\n",
       "      <th>room_type</th>\n",
       "      <th>bathrooms</th>\n",
       "      <th>bedrooms</th>\n",
       "    </tr>\n",
       "  </thead>\n",
       "  <tbody>\n",
       "    <tr>\n",
       "      <th>0</th>\n",
       "      <td>250.0</td>\n",
       "      <td>House</td>\n",
       "      <td>Entire home/apt</td>\n",
       "      <td>1.5</td>\n",
       "      <td>2.0</td>\n",
       "    </tr>\n",
       "    <tr>\n",
       "      <th>1</th>\n",
       "      <td>65.0</td>\n",
       "      <td>Apartment</td>\n",
       "      <td>Private room</td>\n",
       "      <td>1.0</td>\n",
       "      <td>1.0</td>\n",
       "    </tr>\n",
       "    <tr>\n",
       "      <th>2</th>\n",
       "      <td>65.0</td>\n",
       "      <td>Apartment</td>\n",
       "      <td>Private room</td>\n",
       "      <td>1.0</td>\n",
       "      <td>1.0</td>\n",
       "    </tr>\n",
       "    <tr>\n",
       "      <th>3</th>\n",
       "      <td>75.0</td>\n",
       "      <td>House</td>\n",
       "      <td>Private room</td>\n",
       "      <td>1.0</td>\n",
       "      <td>1.0</td>\n",
       "    </tr>\n",
       "    <tr>\n",
       "      <th>4</th>\n",
       "      <td>79.0</td>\n",
       "      <td>House</td>\n",
       "      <td>Private room</td>\n",
       "      <td>1.5</td>\n",
       "      <td>1.0</td>\n",
       "    </tr>\n",
       "  </tbody>\n",
       "</table>\n",
       "</div>"
      ],
      "text/plain": [
       "   price property_type        room_type  bathrooms  bedrooms\n",
       "0  250.0         House  Entire home/apt        1.5       2.0\n",
       "1   65.0     Apartment     Private room        1.0       1.0\n",
       "2   65.0     Apartment     Private room        1.0       1.0\n",
       "3   75.0         House     Private room        1.0       1.0\n",
       "4   79.0         House     Private room        1.5       1.0"
      ]
     },
     "execution_count": 16,
     "metadata": {},
     "output_type": "execute_result"
    }
   ],
   "source": [
    "#Create a Dataframe with the price, the property type, room type and the number of bedrooms and bathrooms\n",
    "boston_price = boston[['price','property_type', 'room_type','bathrooms', 'bedrooms']]\n",
    "boston_price.head()"
   ]
  },
  {
   "cell_type": "code",
   "execution_count": 17,
   "id": "25e3d715",
   "metadata": {},
   "outputs": [
    {
     "data": {
      "text/plain": [
       "price             0\n",
       "property_type     3\n",
       "room_type         0\n",
       "bathrooms        14\n",
       "bedrooms         10\n",
       "dtype: int64"
      ]
     },
     "execution_count": 17,
     "metadata": {},
     "output_type": "execute_result"
    }
   ],
   "source": [
    "#Check the NaNs. Remove them if there are only a few missing values\n",
    "boston_price.isna().sum()"
   ]
  },
  {
   "cell_type": "code",
   "execution_count": 18,
   "id": "ea8107fc",
   "metadata": {},
   "outputs": [],
   "source": [
    "#Remove the NaNs\n",
    "boston_price=boston_price.dropna(axis=0)"
   ]
  },
  {
   "cell_type": "markdown",
   "id": "12a86f30",
   "metadata": {},
   "source": [
    "### seatte_price"
   ]
  },
  {
   "cell_type": "code",
   "execution_count": 19,
   "id": "85257b7d",
   "metadata": {
    "scrolled": true
   },
   "outputs": [
    {
     "data": {
      "text/html": [
       "<div>\n",
       "<style scoped>\n",
       "    .dataframe tbody tr th:only-of-type {\n",
       "        vertical-align: middle;\n",
       "    }\n",
       "\n",
       "    .dataframe tbody tr th {\n",
       "        vertical-align: top;\n",
       "    }\n",
       "\n",
       "    .dataframe thead th {\n",
       "        text-align: right;\n",
       "    }\n",
       "</style>\n",
       "<table border=\"1\" class=\"dataframe\">\n",
       "  <thead>\n",
       "    <tr style=\"text-align: right;\">\n",
       "      <th></th>\n",
       "      <th>price</th>\n",
       "      <th>property_type</th>\n",
       "      <th>room_type</th>\n",
       "      <th>bathrooms</th>\n",
       "      <th>bedrooms</th>\n",
       "    </tr>\n",
       "  </thead>\n",
       "  <tbody>\n",
       "    <tr>\n",
       "      <th>0</th>\n",
       "      <td>85.0</td>\n",
       "      <td>Apartment</td>\n",
       "      <td>Entire home/apt</td>\n",
       "      <td>1.0</td>\n",
       "      <td>1.0</td>\n",
       "    </tr>\n",
       "    <tr>\n",
       "      <th>1</th>\n",
       "      <td>150.0</td>\n",
       "      <td>Apartment</td>\n",
       "      <td>Entire home/apt</td>\n",
       "      <td>1.0</td>\n",
       "      <td>1.0</td>\n",
       "    </tr>\n",
       "    <tr>\n",
       "      <th>2</th>\n",
       "      <td>975.0</td>\n",
       "      <td>House</td>\n",
       "      <td>Entire home/apt</td>\n",
       "      <td>4.5</td>\n",
       "      <td>5.0</td>\n",
       "    </tr>\n",
       "    <tr>\n",
       "      <th>3</th>\n",
       "      <td>100.0</td>\n",
       "      <td>Apartment</td>\n",
       "      <td>Entire home/apt</td>\n",
       "      <td>1.0</td>\n",
       "      <td>0.0</td>\n",
       "    </tr>\n",
       "    <tr>\n",
       "      <th>4</th>\n",
       "      <td>450.0</td>\n",
       "      <td>House</td>\n",
       "      <td>Entire home/apt</td>\n",
       "      <td>2.0</td>\n",
       "      <td>3.0</td>\n",
       "    </tr>\n",
       "  </tbody>\n",
       "</table>\n",
       "</div>"
      ],
      "text/plain": [
       "   price property_type        room_type  bathrooms  bedrooms\n",
       "0   85.0     Apartment  Entire home/apt        1.0       1.0\n",
       "1  150.0     Apartment  Entire home/apt        1.0       1.0\n",
       "2  975.0         House  Entire home/apt        4.5       5.0\n",
       "3  100.0     Apartment  Entire home/apt        1.0       0.0\n",
       "4  450.0         House  Entire home/apt        2.0       3.0"
      ]
     },
     "execution_count": 19,
     "metadata": {},
     "output_type": "execute_result"
    }
   ],
   "source": [
    "#Create a Dataframe with the price, the property type, room type and the number of bedrooms and bathrooms\n",
    "seattle_price = seattle[['price','property_type', 'room_type','bathrooms', 'bedrooms']]\n",
    "seattle_price.head()"
   ]
  },
  {
   "cell_type": "code",
   "execution_count": 20,
   "id": "c7c9ce0f",
   "metadata": {},
   "outputs": [
    {
     "data": {
      "text/plain": [
       "price             0\n",
       "property_type     1\n",
       "room_type         0\n",
       "bathrooms        16\n",
       "bedrooms          6\n",
       "dtype: int64"
      ]
     },
     "execution_count": 20,
     "metadata": {},
     "output_type": "execute_result"
    }
   ],
   "source": [
    "#Check the NaNs. Remove them if there are only a few missing values\n",
    "seattle_price.isna().sum()"
   ]
  },
  {
   "cell_type": "code",
   "execution_count": 21,
   "id": "80ca71ad",
   "metadata": {},
   "outputs": [],
   "source": [
    "#Remove the NaNs\n",
    "seattle_price=seattle_price.dropna(axis=0)"
   ]
  },
  {
   "cell_type": "markdown",
   "id": "1af70fb6",
   "metadata": {},
   "source": [
    "### boston_reviews"
   ]
  },
  {
   "cell_type": "code",
   "execution_count": 22,
   "id": "6eb541f8",
   "metadata": {},
   "outputs": [
    {
     "data": {
      "text/html": [
       "<div>\n",
       "<style scoped>\n",
       "    .dataframe tbody tr th:only-of-type {\n",
       "        vertical-align: middle;\n",
       "    }\n",
       "\n",
       "    .dataframe tbody tr th {\n",
       "        vertical-align: top;\n",
       "    }\n",
       "\n",
       "    .dataframe thead th {\n",
       "        text-align: right;\n",
       "    }\n",
       "</style>\n",
       "<table border=\"1\" class=\"dataframe\">\n",
       "  <thead>\n",
       "    <tr style=\"text-align: right;\">\n",
       "      <th></th>\n",
       "      <th>number_of_reviews</th>\n",
       "      <th>review_scores_rating</th>\n",
       "      <th>review_scores_accuracy</th>\n",
       "      <th>review_scores_cleanliness</th>\n",
       "      <th>review_scores_checkin</th>\n",
       "      <th>review_scores_communication</th>\n",
       "      <th>review_scores_location</th>\n",
       "      <th>review_scores_value</th>\n",
       "    </tr>\n",
       "  </thead>\n",
       "  <tbody>\n",
       "    <tr>\n",
       "      <th>0</th>\n",
       "      <td>0</td>\n",
       "      <td>NaN</td>\n",
       "      <td>NaN</td>\n",
       "      <td>NaN</td>\n",
       "      <td>NaN</td>\n",
       "      <td>NaN</td>\n",
       "      <td>NaN</td>\n",
       "      <td>NaN</td>\n",
       "    </tr>\n",
       "    <tr>\n",
       "      <th>1</th>\n",
       "      <td>36</td>\n",
       "      <td>94.0</td>\n",
       "      <td>10.0</td>\n",
       "      <td>9.0</td>\n",
       "      <td>10.0</td>\n",
       "      <td>10.0</td>\n",
       "      <td>9.0</td>\n",
       "      <td>9.0</td>\n",
       "    </tr>\n",
       "    <tr>\n",
       "      <th>2</th>\n",
       "      <td>41</td>\n",
       "      <td>98.0</td>\n",
       "      <td>10.0</td>\n",
       "      <td>9.0</td>\n",
       "      <td>10.0</td>\n",
       "      <td>10.0</td>\n",
       "      <td>9.0</td>\n",
       "      <td>10.0</td>\n",
       "    </tr>\n",
       "    <tr>\n",
       "      <th>3</th>\n",
       "      <td>1</td>\n",
       "      <td>100.0</td>\n",
       "      <td>10.0</td>\n",
       "      <td>10.0</td>\n",
       "      <td>10.0</td>\n",
       "      <td>10.0</td>\n",
       "      <td>10.0</td>\n",
       "      <td>10.0</td>\n",
       "    </tr>\n",
       "    <tr>\n",
       "      <th>4</th>\n",
       "      <td>29</td>\n",
       "      <td>99.0</td>\n",
       "      <td>10.0</td>\n",
       "      <td>10.0</td>\n",
       "      <td>10.0</td>\n",
       "      <td>10.0</td>\n",
       "      <td>9.0</td>\n",
       "      <td>10.0</td>\n",
       "    </tr>\n",
       "  </tbody>\n",
       "</table>\n",
       "</div>"
      ],
      "text/plain": [
       "   number_of_reviews  review_scores_rating  review_scores_accuracy  \\\n",
       "0                  0                   NaN                     NaN   \n",
       "1                 36                  94.0                    10.0   \n",
       "2                 41                  98.0                    10.0   \n",
       "3                  1                 100.0                    10.0   \n",
       "4                 29                  99.0                    10.0   \n",
       "\n",
       "   review_scores_cleanliness  review_scores_checkin  \\\n",
       "0                        NaN                    NaN   \n",
       "1                        9.0                   10.0   \n",
       "2                        9.0                   10.0   \n",
       "3                       10.0                   10.0   \n",
       "4                       10.0                   10.0   \n",
       "\n",
       "   review_scores_communication  review_scores_location  review_scores_value  \n",
       "0                          NaN                     NaN                  NaN  \n",
       "1                         10.0                     9.0                  9.0  \n",
       "2                         10.0                     9.0                 10.0  \n",
       "3                         10.0                    10.0                 10.0  \n",
       "4                         10.0                     9.0                 10.0  "
      ]
     },
     "execution_count": 22,
     "metadata": {},
     "output_type": "execute_result"
    }
   ],
   "source": [
    "#create a dataframe with the number of reviews and the review scores\n",
    "boston_reviews = boston[['number_of_reviews','review_scores_rating',\n",
    "       'review_scores_accuracy', 'review_scores_cleanliness',\n",
    "       'review_scores_checkin', 'review_scores_communication',\n",
    "       'review_scores_location', 'review_scores_value']]\n",
    "boston_reviews.head()"
   ]
  },
  {
   "cell_type": "code",
   "execution_count": 23,
   "id": "42af1ef3",
   "metadata": {},
   "outputs": [
    {
     "name": "stdout",
     "output_type": "stream",
     "text": [
      "<class 'pandas.core.frame.DataFrame'>\n",
      "Int64Index: 3583 entries, 0 to 3584\n",
      "Data columns (total 8 columns):\n",
      " #   Column                       Non-Null Count  Dtype  \n",
      "---  ------                       --------------  -----  \n",
      " 0   number_of_reviews            3583 non-null   int64  \n",
      " 1   review_scores_rating         2772 non-null   float64\n",
      " 2   review_scores_accuracy       2762 non-null   float64\n",
      " 3   review_scores_cleanliness    2767 non-null   float64\n",
      " 4   review_scores_checkin        2765 non-null   float64\n",
      " 5   review_scores_communication  2767 non-null   float64\n",
      " 6   review_scores_location       2763 non-null   float64\n",
      " 7   review_scores_value          2764 non-null   float64\n",
      "dtypes: float64(7), int64(1)\n",
      "memory usage: 251.9 KB\n"
     ]
    }
   ],
   "source": [
    "boston_reviews.info()"
   ]
  },
  {
   "cell_type": "code",
   "execution_count": 24,
   "id": "e399d311",
   "metadata": {},
   "outputs": [
    {
     "name": "stdout",
     "output_type": "stream",
     "text": [
      "<class 'pandas.core.frame.DataFrame'>\n",
      "Int64Index: 754 entries, 0 to 3584\n",
      "Data columns (total 8 columns):\n",
      " #   Column                       Non-Null Count  Dtype  \n",
      "---  ------                       --------------  -----  \n",
      " 0   number_of_reviews            754 non-null    int64  \n",
      " 1   review_scores_rating         0 non-null      float64\n",
      " 2   review_scores_accuracy       0 non-null      float64\n",
      " 3   review_scores_cleanliness    0 non-null      float64\n",
      " 4   review_scores_checkin        0 non-null      float64\n",
      " 5   review_scores_communication  0 non-null      float64\n",
      " 6   review_scores_location       0 non-null      float64\n",
      " 7   review_scores_value          0 non-null      float64\n",
      "dtypes: float64(7), int64(1)\n",
      "memory usage: 53.0 KB\n"
     ]
    }
   ],
   "source": [
    "#create a dataframe with no reviews\n",
    "no_boston_reviews = boston_reviews.query('number_of_reviews ==0')\n",
    "no_boston_reviews.info()"
   ]
  },
  {
   "cell_type": "markdown",
   "id": "5275d441",
   "metadata": {},
   "source": [
    "Conclusion: Most of the NaNs are from the Airbnbs without reviews. For later analysis and datamodelling it is neccessary to clean the NaNs from the boston_review dataframe."
   ]
  },
  {
   "cell_type": "code",
   "execution_count": 25,
   "id": "f366c8ff",
   "metadata": {},
   "outputs": [
    {
     "name": "stdout",
     "output_type": "stream",
     "text": [
      "<class 'pandas.core.frame.DataFrame'>\n",
      "Int64Index: 2757 entries, 1 to 3583\n",
      "Data columns (total 8 columns):\n",
      " #   Column                       Non-Null Count  Dtype  \n",
      "---  ------                       --------------  -----  \n",
      " 0   number_of_reviews            2757 non-null   int64  \n",
      " 1   review_scores_rating         2757 non-null   float64\n",
      " 2   review_scores_accuracy       2757 non-null   float64\n",
      " 3   review_scores_cleanliness    2757 non-null   float64\n",
      " 4   review_scores_checkin        2757 non-null   float64\n",
      " 5   review_scores_communication  2757 non-null   float64\n",
      " 6   review_scores_location       2757 non-null   float64\n",
      " 7   review_scores_value          2757 non-null   float64\n",
      "dtypes: float64(7), int64(1)\n",
      "memory usage: 193.9 KB\n"
     ]
    }
   ],
   "source": [
    "#remove the rows with no reviews from the boston_reviews dataframe, because they have a lot of NaNs\n",
    "#remove the rest of the NaNs\n",
    "boston_reviews_clean = boston_reviews[boston_reviews['number_of_reviews']!=0]\n",
    "boston_reviews_clean = boston_reviews_clean.dropna(axis=0)\n",
    "boston_reviews_clean.info()"
   ]
  },
  {
   "cell_type": "markdown",
   "id": "dbdcb0e5",
   "metadata": {},
   "source": [
    "### seattle_reviews"
   ]
  },
  {
   "cell_type": "code",
   "execution_count": 26,
   "id": "2c9cec01",
   "metadata": {},
   "outputs": [
    {
     "data": {
      "text/html": [
       "<div>\n",
       "<style scoped>\n",
       "    .dataframe tbody tr th:only-of-type {\n",
       "        vertical-align: middle;\n",
       "    }\n",
       "\n",
       "    .dataframe tbody tr th {\n",
       "        vertical-align: top;\n",
       "    }\n",
       "\n",
       "    .dataframe thead th {\n",
       "        text-align: right;\n",
       "    }\n",
       "</style>\n",
       "<table border=\"1\" class=\"dataframe\">\n",
       "  <thead>\n",
       "    <tr style=\"text-align: right;\">\n",
       "      <th></th>\n",
       "      <th>number_of_reviews</th>\n",
       "      <th>review_scores_rating</th>\n",
       "      <th>review_scores_accuracy</th>\n",
       "      <th>review_scores_cleanliness</th>\n",
       "      <th>review_scores_checkin</th>\n",
       "      <th>review_scores_communication</th>\n",
       "      <th>review_scores_location</th>\n",
       "      <th>review_scores_value</th>\n",
       "    </tr>\n",
       "  </thead>\n",
       "  <tbody>\n",
       "    <tr>\n",
       "      <th>0</th>\n",
       "      <td>207</td>\n",
       "      <td>95.0</td>\n",
       "      <td>10.0</td>\n",
       "      <td>10.0</td>\n",
       "      <td>10.0</td>\n",
       "      <td>10.0</td>\n",
       "      <td>9.0</td>\n",
       "      <td>10.0</td>\n",
       "    </tr>\n",
       "    <tr>\n",
       "      <th>1</th>\n",
       "      <td>43</td>\n",
       "      <td>96.0</td>\n",
       "      <td>10.0</td>\n",
       "      <td>10.0</td>\n",
       "      <td>10.0</td>\n",
       "      <td>10.0</td>\n",
       "      <td>10.0</td>\n",
       "      <td>10.0</td>\n",
       "    </tr>\n",
       "    <tr>\n",
       "      <th>2</th>\n",
       "      <td>20</td>\n",
       "      <td>97.0</td>\n",
       "      <td>10.0</td>\n",
       "      <td>10.0</td>\n",
       "      <td>10.0</td>\n",
       "      <td>10.0</td>\n",
       "      <td>10.0</td>\n",
       "      <td>10.0</td>\n",
       "    </tr>\n",
       "    <tr>\n",
       "      <th>3</th>\n",
       "      <td>0</td>\n",
       "      <td>NaN</td>\n",
       "      <td>NaN</td>\n",
       "      <td>NaN</td>\n",
       "      <td>NaN</td>\n",
       "      <td>NaN</td>\n",
       "      <td>NaN</td>\n",
       "      <td>NaN</td>\n",
       "    </tr>\n",
       "    <tr>\n",
       "      <th>4</th>\n",
       "      <td>38</td>\n",
       "      <td>92.0</td>\n",
       "      <td>9.0</td>\n",
       "      <td>9.0</td>\n",
       "      <td>10.0</td>\n",
       "      <td>10.0</td>\n",
       "      <td>9.0</td>\n",
       "      <td>9.0</td>\n",
       "    </tr>\n",
       "  </tbody>\n",
       "</table>\n",
       "</div>"
      ],
      "text/plain": [
       "   number_of_reviews  review_scores_rating  review_scores_accuracy  \\\n",
       "0                207                  95.0                    10.0   \n",
       "1                 43                  96.0                    10.0   \n",
       "2                 20                  97.0                    10.0   \n",
       "3                  0                   NaN                     NaN   \n",
       "4                 38                  92.0                     9.0   \n",
       "\n",
       "   review_scores_cleanliness  review_scores_checkin  \\\n",
       "0                       10.0                   10.0   \n",
       "1                       10.0                   10.0   \n",
       "2                       10.0                   10.0   \n",
       "3                        NaN                    NaN   \n",
       "4                        9.0                   10.0   \n",
       "\n",
       "   review_scores_communication  review_scores_location  review_scores_value  \n",
       "0                         10.0                     9.0                 10.0  \n",
       "1                         10.0                    10.0                 10.0  \n",
       "2                         10.0                    10.0                 10.0  \n",
       "3                          NaN                     NaN                  NaN  \n",
       "4                         10.0                     9.0                  9.0  "
      ]
     },
     "execution_count": 26,
     "metadata": {},
     "output_type": "execute_result"
    }
   ],
   "source": [
    "#create a dataframe with the number of reviews and the review scores\n",
    "seattle_reviews = seattle[['number_of_reviews','review_scores_rating',\n",
    "       'review_scores_accuracy', 'review_scores_cleanliness',\n",
    "       'review_scores_checkin', 'review_scores_communication',\n",
    "       'review_scores_location', 'review_scores_value']]\n",
    "seattle_reviews.head()"
   ]
  },
  {
   "cell_type": "code",
   "execution_count": 27,
   "id": "c1e25358",
   "metadata": {
    "scrolled": true
   },
   "outputs": [
    {
     "name": "stdout",
     "output_type": "stream",
     "text": [
      "<class 'pandas.core.frame.DataFrame'>\n",
      "RangeIndex: 3818 entries, 0 to 3817\n",
      "Data columns (total 8 columns):\n",
      " #   Column                       Non-Null Count  Dtype  \n",
      "---  ------                       --------------  -----  \n",
      " 0   number_of_reviews            3818 non-null   int64  \n",
      " 1   review_scores_rating         3171 non-null   float64\n",
      " 2   review_scores_accuracy       3160 non-null   float64\n",
      " 3   review_scores_cleanliness    3165 non-null   float64\n",
      " 4   review_scores_checkin        3160 non-null   float64\n",
      " 5   review_scores_communication  3167 non-null   float64\n",
      " 6   review_scores_location       3163 non-null   float64\n",
      " 7   review_scores_value          3162 non-null   float64\n",
      "dtypes: float64(7), int64(1)\n",
      "memory usage: 238.8 KB\n"
     ]
    }
   ],
   "source": [
    "seattle_reviews.info()"
   ]
  },
  {
   "cell_type": "code",
   "execution_count": 28,
   "id": "851cc652",
   "metadata": {
    "scrolled": true
   },
   "outputs": [
    {
     "name": "stdout",
     "output_type": "stream",
     "text": [
      "<class 'pandas.core.frame.DataFrame'>\n",
      "Int64Index: 627 entries, 3 to 3817\n",
      "Data columns (total 8 columns):\n",
      " #   Column                       Non-Null Count  Dtype  \n",
      "---  ------                       --------------  -----  \n",
      " 0   number_of_reviews            627 non-null    int64  \n",
      " 1   review_scores_rating         0 non-null      float64\n",
      " 2   review_scores_accuracy       0 non-null      float64\n",
      " 3   review_scores_cleanliness    0 non-null      float64\n",
      " 4   review_scores_checkin        0 non-null      float64\n",
      " 5   review_scores_communication  0 non-null      float64\n",
      " 6   review_scores_location       0 non-null      float64\n",
      " 7   review_scores_value          0 non-null      float64\n",
      "dtypes: float64(7), int64(1)\n",
      "memory usage: 44.1 KB\n"
     ]
    }
   ],
   "source": [
    "#create a dataframe with no reviews\n",
    "no_seattle_reviews = seattle_reviews.query('number_of_reviews ==0')\n",
    "no_seattle_reviews.info()"
   ]
  },
  {
   "cell_type": "code",
   "execution_count": 29,
   "id": "77fdbabd",
   "metadata": {},
   "outputs": [
    {
     "name": "stdout",
     "output_type": "stream",
     "text": [
      "<class 'pandas.core.frame.DataFrame'>\n",
      "Int64Index: 3158 entries, 0 to 3814\n",
      "Data columns (total 8 columns):\n",
      " #   Column                       Non-Null Count  Dtype  \n",
      "---  ------                       --------------  -----  \n",
      " 0   number_of_reviews            3158 non-null   int64  \n",
      " 1   review_scores_rating         3158 non-null   float64\n",
      " 2   review_scores_accuracy       3158 non-null   float64\n",
      " 3   review_scores_cleanliness    3158 non-null   float64\n",
      " 4   review_scores_checkin        3158 non-null   float64\n",
      " 5   review_scores_communication  3158 non-null   float64\n",
      " 6   review_scores_location       3158 non-null   float64\n",
      " 7   review_scores_value          3158 non-null   float64\n",
      "dtypes: float64(7), int64(1)\n",
      "memory usage: 222.0 KB\n"
     ]
    }
   ],
   "source": [
    "#remove the rows with no reviews from the boston_reviews dataframe, because they have a lot of NaNs\n",
    "#remove the rest of the NaNs\n",
    "seattle_reviews_clean = seattle_reviews[seattle_reviews['number_of_reviews']!=0]\n",
    "seattle_reviews_clean = seattle_reviews_clean.dropna(axis=0)\n",
    "seattle_reviews_clean.info()"
   ]
  },
  {
   "cell_type": "markdown",
   "id": "bf4baac8",
   "metadata": {},
   "source": [
    "## 4. Analyze"
   ]
  },
  {
   "cell_type": "markdown",
   "id": "7d179e78",
   "metadata": {},
   "source": [
    "### Questions:\n",
    "\n",
    "Question 1: What are the differences in the price, the number of rooms and the property and room type in Seattle and Boston?\n",
    "\n",
    "Question 2: Which airbnbs have the most and the best reviews - Boston or Seattle?\n",
    "\n",
    "Question 3: Is there a correlation between the price and the number of bed- and bathrooms? (Data Modelling)\n",
    "\n",
    "Question 4: Is there are correlation between the property or room type of the airbnb and its rating? (Data Modelling)\n",
    "\n"
   ]
  },
  {
   "cell_type": "markdown",
   "id": "3ce05d8c",
   "metadata": {},
   "source": [
    "### Question 1: What are the differences in the price, the number of rooms and the property and room type in Seattle and Boston?"
   ]
  },
  {
   "cell_type": "markdown",
   "id": "4b368551",
   "metadata": {},
   "source": [
    "#### Analyzing the distriution of the price and the types and number of rooms"
   ]
  },
  {
   "cell_type": "code",
   "execution_count": 30,
   "id": "589a3137",
   "metadata": {},
   "outputs": [
    {
     "data": {
      "text/html": [
       "<div>\n",
       "<style scoped>\n",
       "    .dataframe tbody tr th:only-of-type {\n",
       "        vertical-align: middle;\n",
       "    }\n",
       "\n",
       "    .dataframe tbody tr th {\n",
       "        vertical-align: top;\n",
       "    }\n",
       "\n",
       "    .dataframe thead th {\n",
       "        text-align: right;\n",
       "    }\n",
       "</style>\n",
       "<table border=\"1\" class=\"dataframe\">\n",
       "  <thead>\n",
       "    <tr style=\"text-align: right;\">\n",
       "      <th></th>\n",
       "      <th>price</th>\n",
       "      <th>bathrooms</th>\n",
       "      <th>bedrooms</th>\n",
       "    </tr>\n",
       "  </thead>\n",
       "  <tbody>\n",
       "    <tr>\n",
       "      <th>count</th>\n",
       "      <td>3556.000000</td>\n",
       "      <td>3556.000000</td>\n",
       "      <td>3556.000000</td>\n",
       "    </tr>\n",
       "    <tr>\n",
       "      <th>mean</th>\n",
       "      <td>172.159168</td>\n",
       "      <td>1.222300</td>\n",
       "      <td>1.257030</td>\n",
       "    </tr>\n",
       "    <tr>\n",
       "      <th>std</th>\n",
       "      <td>125.553530</td>\n",
       "      <td>0.502181</td>\n",
       "      <td>0.754373</td>\n",
       "    </tr>\n",
       "    <tr>\n",
       "      <th>min</th>\n",
       "      <td>10.000000</td>\n",
       "      <td>0.000000</td>\n",
       "      <td>0.000000</td>\n",
       "    </tr>\n",
       "    <tr>\n",
       "      <th>25%</th>\n",
       "      <td>85.000000</td>\n",
       "      <td>1.000000</td>\n",
       "      <td>1.000000</td>\n",
       "    </tr>\n",
       "    <tr>\n",
       "      <th>50%</th>\n",
       "      <td>150.000000</td>\n",
       "      <td>1.000000</td>\n",
       "      <td>1.000000</td>\n",
       "    </tr>\n",
       "    <tr>\n",
       "      <th>75%</th>\n",
       "      <td>220.000000</td>\n",
       "      <td>1.000000</td>\n",
       "      <td>2.000000</td>\n",
       "    </tr>\n",
       "    <tr>\n",
       "      <th>max</th>\n",
       "      <td>1400.000000</td>\n",
       "      <td>6.000000</td>\n",
       "      <td>5.000000</td>\n",
       "    </tr>\n",
       "  </tbody>\n",
       "</table>\n",
       "</div>"
      ],
      "text/plain": [
       "             price    bathrooms     bedrooms\n",
       "count  3556.000000  3556.000000  3556.000000\n",
       "mean    172.159168     1.222300     1.257030\n",
       "std     125.553530     0.502181     0.754373\n",
       "min      10.000000     0.000000     0.000000\n",
       "25%      85.000000     1.000000     1.000000\n",
       "50%     150.000000     1.000000     1.000000\n",
       "75%     220.000000     1.000000     2.000000\n",
       "max    1400.000000     6.000000     5.000000"
      ]
     },
     "execution_count": 30,
     "metadata": {},
     "output_type": "execute_result"
    }
   ],
   "source": [
    "boston_price.describe()"
   ]
  },
  {
   "cell_type": "code",
   "execution_count": 31,
   "id": "66ff7167",
   "metadata": {
    "scrolled": true
   },
   "outputs": [
    {
     "data": {
      "text/html": [
       "<div>\n",
       "<style scoped>\n",
       "    .dataframe tbody tr th:only-of-type {\n",
       "        vertical-align: middle;\n",
       "    }\n",
       "\n",
       "    .dataframe tbody tr th {\n",
       "        vertical-align: top;\n",
       "    }\n",
       "\n",
       "    .dataframe thead th {\n",
       "        text-align: right;\n",
       "    }\n",
       "</style>\n",
       "<table border=\"1\" class=\"dataframe\">\n",
       "  <thead>\n",
       "    <tr style=\"text-align: right;\">\n",
       "      <th></th>\n",
       "      <th>price</th>\n",
       "      <th>bathrooms</th>\n",
       "      <th>bedrooms</th>\n",
       "    </tr>\n",
       "  </thead>\n",
       "  <tbody>\n",
       "    <tr>\n",
       "      <th>count</th>\n",
       "      <td>3795.000000</td>\n",
       "      <td>3795.000000</td>\n",
       "      <td>3795.000000</td>\n",
       "    </tr>\n",
       "    <tr>\n",
       "      <th>mean</th>\n",
       "      <td>128.042688</td>\n",
       "      <td>1.259947</td>\n",
       "      <td>1.308037</td>\n",
       "    </tr>\n",
       "    <tr>\n",
       "      <th>std</th>\n",
       "      <td>90.433865</td>\n",
       "      <td>0.590808</td>\n",
       "      <td>0.884903</td>\n",
       "    </tr>\n",
       "    <tr>\n",
       "      <th>min</th>\n",
       "      <td>20.000000</td>\n",
       "      <td>0.000000</td>\n",
       "      <td>0.000000</td>\n",
       "    </tr>\n",
       "    <tr>\n",
       "      <th>25%</th>\n",
       "      <td>75.000000</td>\n",
       "      <td>1.000000</td>\n",
       "      <td>1.000000</td>\n",
       "    </tr>\n",
       "    <tr>\n",
       "      <th>50%</th>\n",
       "      <td>100.000000</td>\n",
       "      <td>1.000000</td>\n",
       "      <td>1.000000</td>\n",
       "    </tr>\n",
       "    <tr>\n",
       "      <th>75%</th>\n",
       "      <td>150.000000</td>\n",
       "      <td>1.000000</td>\n",
       "      <td>2.000000</td>\n",
       "    </tr>\n",
       "    <tr>\n",
       "      <th>max</th>\n",
       "      <td>1000.000000</td>\n",
       "      <td>8.000000</td>\n",
       "      <td>7.000000</td>\n",
       "    </tr>\n",
       "  </tbody>\n",
       "</table>\n",
       "</div>"
      ],
      "text/plain": [
       "             price    bathrooms     bedrooms\n",
       "count  3795.000000  3795.000000  3795.000000\n",
       "mean    128.042688     1.259947     1.308037\n",
       "std      90.433865     0.590808     0.884903\n",
       "min      20.000000     0.000000     0.000000\n",
       "25%      75.000000     1.000000     1.000000\n",
       "50%     100.000000     1.000000     1.000000\n",
       "75%     150.000000     1.000000     2.000000\n",
       "max    1000.000000     8.000000     7.000000"
      ]
     },
     "execution_count": 31,
     "metadata": {},
     "output_type": "execute_result"
    }
   ],
   "source": [
    "seattle_price.describe()"
   ]
  },
  {
   "cell_type": "markdown",
   "id": "9bdcdb2c",
   "metadata": {},
   "source": [
    "### Conclusion:\n",
    "The airbnbs in Bosten are more expensive than in Seattle (mean: 172 vs. 128), though the Seattle airbnbs have more bath- and bedrooms according to the mean."
   ]
  },
  {
   "cell_type": "code",
   "execution_count": 32,
   "id": "6244d38b",
   "metadata": {},
   "outputs": [
    {
     "data": {
      "image/png": "[encoded data removed]",
      "text/plain": [
       "<Figure size 640x480 with 4 Axes>"
      ]
     },
     "metadata": {},
     "output_type": "display_data"
    },
    {
     "data": {
      "image/png": "[encoded data removed]",
      "text/plain": [
       "<Figure size 640x480 with 4 Axes>"
      ]
     },
     "metadata": {},
     "output_type": "display_data"
    }
   ],
   "source": [
    "boston_price.hist()\n",
    "seattle_price.hist(color=seattle_color);"
   ]
  },
  {
   "cell_type": "markdown",
   "id": "cb003f11",
   "metadata": {},
   "source": [
    "#### Explore the property types in Boston and Seattle"
   ]
  },
  {
   "cell_type": "code",
   "execution_count": 33,
   "id": "977c91c4",
   "metadata": {
    "scrolled": true
   },
   "outputs": [
    {
     "data": {
      "text/plain": [
       "Apartment          2593\n",
       "House               557\n",
       "Condominium         231\n",
       "Townhouse            54\n",
       "Bed & Breakfast      39\n",
       "Loft                 39\n",
       "Other                17\n",
       "Boat                 12\n",
       "Villa                 6\n",
       "Entire Floor          4\n",
       "Dorm                  2\n",
       "Guesthouse            1\n",
       "Camper/RV             1\n",
       "Name: property_type, dtype: int64"
      ]
     },
     "execution_count": 33,
     "metadata": {},
     "output_type": "execute_result"
    }
   ],
   "source": [
    "boston_price.property_type.value_counts()"
   ]
  },
  {
   "cell_type": "code",
   "execution_count": 34,
   "id": "be669a31",
   "metadata": {},
   "outputs": [
    {
     "data": {
      "text/plain": [
       "House              1723\n",
       "Apartment          1698\n",
       "Townhouse           118\n",
       "Condominium          91\n",
       "Loft                 40\n",
       "Bed & Breakfast      37\n",
       "Cabin                21\n",
       "Other                21\n",
       "Camper/RV            13\n",
       "Bungalow             13\n",
       "Boat                  8\n",
       "Tent                  5\n",
       "Treehouse             3\n",
       "Dorm                  2\n",
       "Yurt                  1\n",
       "Chalet                1\n",
       "Name: property_type, dtype: int64"
      ]
     },
     "execution_count": 34,
     "metadata": {},
     "output_type": "execute_result"
    }
   ],
   "source": [
    "seattle_price.property_type.value_counts()"
   ]
  },
  {
   "cell_type": "code",
   "execution_count": 35,
   "id": "c268d64e",
   "metadata": {
    "scrolled": true
   },
   "outputs": [
    {
     "data": {
      "image/png": "[encoded data removed]",
      "text/plain": [
       "<Figure size 1000x500 with 2 Axes>"
      ]
     },
     "metadata": {},
     "output_type": "display_data"
    }
   ],
   "source": [
    "#barplot of the property types\n",
    "\n",
    "plt.figure(figsize=[10,5])\n",
    "\n",
    "\n",
    "plt.subplot(1,2,1)\n",
    "sb.countplot(data=boston_price, x='property_type', color=boston_color, order=boston_price['property_type'].value_counts().index)\n",
    "plt.xticks(rotation=90)\n",
    "plt.ylim(0,2800)\n",
    "graph_labels('Boston', 'Property Type', 'Count')\n",
    "\n",
    "plt.subplot(1,2,2)\n",
    "sb.countplot(data=seattle_price, x='property_type', color=seattle_color, order=seattle_price['property_type'].value_counts().index)\n",
    "plt.xticks(rotation=90)\n",
    "plt.ylim(0,2800)\n",
    "graph_labels('Seattle', 'Property Type', 'Count');"
   ]
  },
  {
   "cell_type": "markdown",
   "id": "0ab0583e",
   "metadata": {},
   "source": [
    "#### conclusion:\n",
    "The most airbnbs in Boston are appartments.\n",
    "\n",
    "In Seattle there are a lot of appartments, too, but the most common proprty type are houses. One interesting fact: In Seattle they rent Treehouses, tents and yurts. They also rent more campers than in Boston."
   ]
  },
  {
   "cell_type": "markdown",
   "id": "32ac9c91",
   "metadata": {},
   "source": [
    "#### Explore the room types in Boston and Seattle"
   ]
  },
  {
   "cell_type": "code",
   "execution_count": 36,
   "id": "3164e770",
   "metadata": {},
   "outputs": [
    {
     "data": {
      "text/plain": [
       "Entire home/apt    2109\n",
       "Private room       1368\n",
       "Shared room          79\n",
       "Name: room_type, dtype: int64"
      ]
     },
     "execution_count": 36,
     "metadata": {},
     "output_type": "execute_result"
    }
   ],
   "source": [
    "boston_price.room_type.value_counts()"
   ]
  },
  {
   "cell_type": "code",
   "execution_count": 37,
   "id": "c63395d3",
   "metadata": {},
   "outputs": [
    {
     "data": {
      "text/plain": [
       "Entire home/apt    2525\n",
       "Private room       1153\n",
       "Shared room         117\n",
       "Name: room_type, dtype: int64"
      ]
     },
     "execution_count": 37,
     "metadata": {},
     "output_type": "execute_result"
    }
   ],
   "source": [
    "seattle_price.room_type.value_counts()"
   ]
  },
  {
   "cell_type": "code",
   "execution_count": 38,
   "id": "f0f029dd",
   "metadata": {},
   "outputs": [
    {
     "data": {
      "image/png": "[encoded data removed]",
      "text/plain": [
       "<Figure size 600x300 with 2 Axes>"
      ]
     },
     "metadata": {},
     "output_type": "display_data"
    }
   ],
   "source": [
    "#barplot of the roomtypes\n",
    "plt.figure(figsize=[6,3])\n",
    "\n",
    "\n",
    "plt.subplot(1,2,1)\n",
    "sb.countplot(data=boston_price, x='room_type', color=boston_color)\n",
    "plt.xticks(rotation=90)\n",
    "plt.ylim(0,2700)\n",
    "graph_labels('Boston', 'Room Type', 'Count')\n",
    "\n",
    "plt.subplot(1,2,2)\n",
    "sb.countplot(data=seattle_price, x='room_type', color=seattle_color)\n",
    "plt.xticks(rotation=90)\n",
    "plt.ylim(0,2700)\n",
    "graph_labels('Seattle', 'Room Type', 'Count');"
   ]
  },
  {
   "cell_type": "markdown",
   "id": "77676f69",
   "metadata": {},
   "source": [
    "#### conclusion:\n",
    "In both cities we have a similar distribution of the room types: most common are entire homes, on the second place are the private rooms and last are the shared rooms."
   ]
  },
  {
   "cell_type": "markdown",
   "id": "3cc73ffa",
   "metadata": {},
   "source": [
    "#### Context betweern the price and the roomtype in Boston and Seattle"
   ]
  },
  {
   "cell_type": "code",
   "execution_count": 39,
   "id": "befb4d08",
   "metadata": {
    "scrolled": false
   },
   "outputs": [
    {
     "data": {
      "image/png": "[encoded data removed]",
      "text/plain": [
       "<Figure size 300x300 with 1 Axes>"
      ]
     },
     "metadata": {},
     "output_type": "display_data"
    }
   ],
   "source": [
    "#plot a stripplot\n",
    "plt.figure(figsize=[3,3])\n",
    "ax = sb.stripplot(data=boston_price,x='room_type', y='price', color=boston_color, dodge=True, jitter=0.35, size=2, alpha=.7)\n",
    "sb.stripplot(data=seattle_price,ax=ax, x='room_type', y='price', color=seattle_color, dodge=True, jitter=0.35, size=2, alpha=.7)\n",
    "plt.xticks(rotation=90);"
   ]
  },
  {
   "cell_type": "markdown",
   "id": "645ebbd6",
   "metadata": {},
   "source": [
    "#### Conclusion:\n",
    "\n",
    "As in the distribution of the property type seen yet, on Boston are more expensive airbnbs than in Seattle."
   ]
  },
  {
   "cell_type": "markdown",
   "id": "84b1699a",
   "metadata": {},
   "source": [
    "#### Explore the relationship between price and number of bathrooms and bedrooms in Boston and Seattle"
   ]
  },
  {
   "cell_type": "code",
   "execution_count": 40,
   "id": "e4a5e6dc",
   "metadata": {},
   "outputs": [
    {
     "data": {
      "image/png": "[encoded data removed]",
      "text/plain": [
       "<Figure size 750x750 with 12 Axes>"
      ]
     },
     "metadata": {},
     "output_type": "display_data"
    }
   ],
   "source": [
    "#Scatterplot with the price and the number of rooms in Boston\n",
    "g= sb.PairGrid(data=boston_price, vars=['price', 'bedrooms', 'bathrooms'])\n",
    "g.map_diag(plt.hist)\n",
    "g.map_offdiag(plt.scatter);"
   ]
  },
  {
   "cell_type": "code",
   "execution_count": 41,
   "id": "128964eb",
   "metadata": {},
   "outputs": [
    {
     "data": {
      "image/png": "[encoded data removed]",
      "text/plain": [
       "<Figure size 750x750 with 12 Axes>"
      ]
     },
     "metadata": {},
     "output_type": "display_data"
    }
   ],
   "source": [
    "#Scatterplot with the price and the number of rooms in Seattle\n",
    "g= sb.PairGrid(data=seattle_price, vars=['price', 'bedrooms', 'bathrooms'])\n",
    "g.map_diag(plt.hist, color=seattle_color)\n",
    "g.map_offdiag(plt.scatter, color=seattle_color);"
   ]
  },
  {
   "cell_type": "markdown",
   "id": "7b725905",
   "metadata": {},
   "source": [
    "#### Conclusion:\n",
    "On the first view there might be a correlation between the number of bedrooms and the price: It seems, that the price increases when the airbnb hat more bedrooms. you can see this phenomen in Boston and in Seattle as well. On this point are further investigation neccessary, to verify this relationsship.\n",
    "\n",
    "The relationsship betweern price and the number of bathrooms is not that obviously with visual exploration, but maybe there is an correlation, too!?"
   ]
  },
  {
   "cell_type": "code",
   "execution_count": null,
   "id": "b86b8672",
   "metadata": {},
   "outputs": [],
   "source": []
  },
  {
   "cell_type": "markdown",
   "id": "2eba3475",
   "metadata": {},
   "source": [
    "### Question 2: Which airbnbs have the most and the best reviews - Boston or Seattle?"
   ]
  },
  {
   "cell_type": "markdown",
   "id": "81609e45",
   "metadata": {},
   "source": [
    "#### Analyzing the distribution of the reviews and their scores"
   ]
  },
  {
   "cell_type": "code",
   "execution_count": 42,
   "id": "e97ab44e",
   "metadata": {
    "scrolled": false
   },
   "outputs": [
    {
     "data": {
      "text/html": [
       "<div>\n",
       "<style scoped>\n",
       "    .dataframe tbody tr th:only-of-type {\n",
       "        vertical-align: middle;\n",
       "    }\n",
       "\n",
       "    .dataframe tbody tr th {\n",
       "        vertical-align: top;\n",
       "    }\n",
       "\n",
       "    .dataframe thead th {\n",
       "        text-align: right;\n",
       "    }\n",
       "</style>\n",
       "<table border=\"1\" class=\"dataframe\">\n",
       "  <thead>\n",
       "    <tr style=\"text-align: right;\">\n",
       "      <th></th>\n",
       "      <th>number_of_reviews</th>\n",
       "      <th>review_scores_rating</th>\n",
       "      <th>review_scores_accuracy</th>\n",
       "      <th>review_scores_cleanliness</th>\n",
       "      <th>review_scores_checkin</th>\n",
       "      <th>review_scores_communication</th>\n",
       "      <th>review_scores_location</th>\n",
       "      <th>review_scores_value</th>\n",
       "    </tr>\n",
       "  </thead>\n",
       "  <tbody>\n",
       "    <tr>\n",
       "      <th>count</th>\n",
       "      <td>2757.000000</td>\n",
       "      <td>2757.000000</td>\n",
       "      <td>2757.000000</td>\n",
       "      <td>2757.000000</td>\n",
       "      <td>2757.000000</td>\n",
       "      <td>2757.000000</td>\n",
       "      <td>2757.000000</td>\n",
       "      <td>2757.000000</td>\n",
       "    </tr>\n",
       "    <tr>\n",
       "      <th>mean</th>\n",
       "      <td>24.733769</td>\n",
       "      <td>91.905332</td>\n",
       "      <td>9.431266</td>\n",
       "      <td>9.258252</td>\n",
       "      <td>9.645267</td>\n",
       "      <td>9.646717</td>\n",
       "      <td>9.413493</td>\n",
       "      <td>9.168299</td>\n",
       "    </tr>\n",
       "    <tr>\n",
       "      <th>std</th>\n",
       "      <td>38.797830</td>\n",
       "      <td>9.534299</td>\n",
       "      <td>0.932058</td>\n",
       "      <td>1.169602</td>\n",
       "      <td>0.763621</td>\n",
       "      <td>0.735257</td>\n",
       "      <td>0.903673</td>\n",
       "      <td>1.009733</td>\n",
       "    </tr>\n",
       "    <tr>\n",
       "      <th>min</th>\n",
       "      <td>1.000000</td>\n",
       "      <td>20.000000</td>\n",
       "      <td>2.000000</td>\n",
       "      <td>2.000000</td>\n",
       "      <td>2.000000</td>\n",
       "      <td>4.000000</td>\n",
       "      <td>2.000000</td>\n",
       "      <td>2.000000</td>\n",
       "    </tr>\n",
       "    <tr>\n",
       "      <th>25%</th>\n",
       "      <td>3.000000</td>\n",
       "      <td>89.000000</td>\n",
       "      <td>9.000000</td>\n",
       "      <td>9.000000</td>\n",
       "      <td>9.000000</td>\n",
       "      <td>9.000000</td>\n",
       "      <td>9.000000</td>\n",
       "      <td>9.000000</td>\n",
       "    </tr>\n",
       "    <tr>\n",
       "      <th>50%</th>\n",
       "      <td>10.000000</td>\n",
       "      <td>94.000000</td>\n",
       "      <td>10.000000</td>\n",
       "      <td>10.000000</td>\n",
       "      <td>10.000000</td>\n",
       "      <td>10.000000</td>\n",
       "      <td>10.000000</td>\n",
       "      <td>9.000000</td>\n",
       "    </tr>\n",
       "    <tr>\n",
       "      <th>75%</th>\n",
       "      <td>29.000000</td>\n",
       "      <td>98.000000</td>\n",
       "      <td>10.000000</td>\n",
       "      <td>10.000000</td>\n",
       "      <td>10.000000</td>\n",
       "      <td>10.000000</td>\n",
       "      <td>10.000000</td>\n",
       "      <td>10.000000</td>\n",
       "    </tr>\n",
       "    <tr>\n",
       "      <th>max</th>\n",
       "      <td>404.000000</td>\n",
       "      <td>100.000000</td>\n",
       "      <td>10.000000</td>\n",
       "      <td>10.000000</td>\n",
       "      <td>10.000000</td>\n",
       "      <td>10.000000</td>\n",
       "      <td>10.000000</td>\n",
       "      <td>10.000000</td>\n",
       "    </tr>\n",
       "  </tbody>\n",
       "</table>\n",
       "</div>"
      ],
      "text/plain": [
       "       number_of_reviews  review_scores_rating  review_scores_accuracy  \\\n",
       "count        2757.000000           2757.000000             2757.000000   \n",
       "mean           24.733769             91.905332                9.431266   \n",
       "std            38.797830              9.534299                0.932058   \n",
       "min             1.000000             20.000000                2.000000   \n",
       "25%             3.000000             89.000000                9.000000   \n",
       "50%            10.000000             94.000000               10.000000   \n",
       "75%            29.000000             98.000000               10.000000   \n",
       "max           404.000000            100.000000               10.000000   \n",
       "\n",
       "       review_scores_cleanliness  review_scores_checkin  \\\n",
       "count                2757.000000            2757.000000   \n",
       "mean                    9.258252               9.645267   \n",
       "std                     1.169602               0.763621   \n",
       "min                     2.000000               2.000000   \n",
       "25%                     9.000000               9.000000   \n",
       "50%                    10.000000              10.000000   \n",
       "75%                    10.000000              10.000000   \n",
       "max                    10.000000              10.000000   \n",
       "\n",
       "       review_scores_communication  review_scores_location  \\\n",
       "count                  2757.000000             2757.000000   \n",
       "mean                      9.646717                9.413493   \n",
       "std                       0.735257                0.903673   \n",
       "min                       4.000000                2.000000   \n",
       "25%                       9.000000                9.000000   \n",
       "50%                      10.000000               10.000000   \n",
       "75%                      10.000000               10.000000   \n",
       "max                      10.000000               10.000000   \n",
       "\n",
       "       review_scores_value  \n",
       "count          2757.000000  \n",
       "mean              9.168299  \n",
       "std               1.009733  \n",
       "min               2.000000  \n",
       "25%               9.000000  \n",
       "50%               9.000000  \n",
       "75%              10.000000  \n",
       "max              10.000000  "
      ]
     },
     "execution_count": 42,
     "metadata": {},
     "output_type": "execute_result"
    }
   ],
   "source": [
    "boston_reviews_clean.describe()"
   ]
  },
  {
   "cell_type": "code",
   "execution_count": 43,
   "id": "1c12a176",
   "metadata": {},
   "outputs": [
    {
     "name": "stdout",
     "output_type": "stream",
     "text": [
      "76.95 % of the airbnbs in Boston are reviewed\n"
     ]
    }
   ],
   "source": [
    "#proportion of the reviews in Boston\n",
    "prop_rev_boston = 100* boston_reviews_clean['number_of_reviews'].count()/boston_reviews['number_of_reviews'].count()\n",
    "print('{:.2f} % of the airbnbs in Boston are reviewed'.format(prop_rev_boston))"
   ]
  },
  {
   "cell_type": "code",
   "execution_count": 44,
   "id": "7aeb7015",
   "metadata": {
    "scrolled": false
   },
   "outputs": [
    {
     "data": {
      "text/html": [
       "<div>\n",
       "<style scoped>\n",
       "    .dataframe tbody tr th:only-of-type {\n",
       "        vertical-align: middle;\n",
       "    }\n",
       "\n",
       "    .dataframe tbody tr th {\n",
       "        vertical-align: top;\n",
       "    }\n",
       "\n",
       "    .dataframe thead th {\n",
       "        text-align: right;\n",
       "    }\n",
       "</style>\n",
       "<table border=\"1\" class=\"dataframe\">\n",
       "  <thead>\n",
       "    <tr style=\"text-align: right;\">\n",
       "      <th></th>\n",
       "      <th>number_of_reviews</th>\n",
       "      <th>review_scores_rating</th>\n",
       "      <th>review_scores_accuracy</th>\n",
       "      <th>review_scores_cleanliness</th>\n",
       "      <th>review_scores_checkin</th>\n",
       "      <th>review_scores_communication</th>\n",
       "      <th>review_scores_location</th>\n",
       "      <th>review_scores_value</th>\n",
       "    </tr>\n",
       "  </thead>\n",
       "  <tbody>\n",
       "    <tr>\n",
       "      <th>count</th>\n",
       "      <td>3158.000000</td>\n",
       "      <td>3158.000000</td>\n",
       "      <td>3158.000000</td>\n",
       "      <td>3158.000000</td>\n",
       "      <td>3158.000000</td>\n",
       "      <td>3158.000000</td>\n",
       "      <td>3158.000000</td>\n",
       "      <td>3158.000000</td>\n",
       "    </tr>\n",
       "    <tr>\n",
       "      <th>mean</th>\n",
       "      <td>26.856555</td>\n",
       "      <td>94.538949</td>\n",
       "      <td>9.636795</td>\n",
       "      <td>9.556048</td>\n",
       "      <td>9.786574</td>\n",
       "      <td>9.810956</td>\n",
       "      <td>9.608930</td>\n",
       "      <td>9.452185</td>\n",
       "    </tr>\n",
       "    <tr>\n",
       "      <th>std</th>\n",
       "      <td>39.962629</td>\n",
       "      <td>6.597547</td>\n",
       "      <td>0.697614</td>\n",
       "      <td>0.797442</td>\n",
       "      <td>0.595663</td>\n",
       "      <td>0.559464</td>\n",
       "      <td>0.628746</td>\n",
       "      <td>0.750099</td>\n",
       "    </tr>\n",
       "    <tr>\n",
       "      <th>min</th>\n",
       "      <td>1.000000</td>\n",
       "      <td>20.000000</td>\n",
       "      <td>2.000000</td>\n",
       "      <td>3.000000</td>\n",
       "      <td>2.000000</td>\n",
       "      <td>2.000000</td>\n",
       "      <td>4.000000</td>\n",
       "      <td>2.000000</td>\n",
       "    </tr>\n",
       "    <tr>\n",
       "      <th>25%</th>\n",
       "      <td>4.000000</td>\n",
       "      <td>93.000000</td>\n",
       "      <td>9.000000</td>\n",
       "      <td>9.000000</td>\n",
       "      <td>10.000000</td>\n",
       "      <td>10.000000</td>\n",
       "      <td>9.000000</td>\n",
       "      <td>9.000000</td>\n",
       "    </tr>\n",
       "    <tr>\n",
       "      <th>50%</th>\n",
       "      <td>13.000000</td>\n",
       "      <td>96.000000</td>\n",
       "      <td>10.000000</td>\n",
       "      <td>10.000000</td>\n",
       "      <td>10.000000</td>\n",
       "      <td>10.000000</td>\n",
       "      <td>10.000000</td>\n",
       "      <td>10.000000</td>\n",
       "    </tr>\n",
       "    <tr>\n",
       "      <th>75%</th>\n",
       "      <td>32.000000</td>\n",
       "      <td>99.000000</td>\n",
       "      <td>10.000000</td>\n",
       "      <td>10.000000</td>\n",
       "      <td>10.000000</td>\n",
       "      <td>10.000000</td>\n",
       "      <td>10.000000</td>\n",
       "      <td>10.000000</td>\n",
       "    </tr>\n",
       "    <tr>\n",
       "      <th>max</th>\n",
       "      <td>474.000000</td>\n",
       "      <td>100.000000</td>\n",
       "      <td>10.000000</td>\n",
       "      <td>10.000000</td>\n",
       "      <td>10.000000</td>\n",
       "      <td>10.000000</td>\n",
       "      <td>10.000000</td>\n",
       "      <td>10.000000</td>\n",
       "    </tr>\n",
       "  </tbody>\n",
       "</table>\n",
       "</div>"
      ],
      "text/plain": [
       "       number_of_reviews  review_scores_rating  review_scores_accuracy  \\\n",
       "count        3158.000000           3158.000000             3158.000000   \n",
       "mean           26.856555             94.538949                9.636795   \n",
       "std            39.962629              6.597547                0.697614   \n",
       "min             1.000000             20.000000                2.000000   \n",
       "25%             4.000000             93.000000                9.000000   \n",
       "50%            13.000000             96.000000               10.000000   \n",
       "75%            32.000000             99.000000               10.000000   \n",
       "max           474.000000            100.000000               10.000000   \n",
       "\n",
       "       review_scores_cleanliness  review_scores_checkin  \\\n",
       "count                3158.000000            3158.000000   \n",
       "mean                    9.556048               9.786574   \n",
       "std                     0.797442               0.595663   \n",
       "min                     3.000000               2.000000   \n",
       "25%                     9.000000              10.000000   \n",
       "50%                    10.000000              10.000000   \n",
       "75%                    10.000000              10.000000   \n",
       "max                    10.000000              10.000000   \n",
       "\n",
       "       review_scores_communication  review_scores_location  \\\n",
       "count                  3158.000000             3158.000000   \n",
       "mean                      9.810956                9.608930   \n",
       "std                       0.559464                0.628746   \n",
       "min                       2.000000                4.000000   \n",
       "25%                      10.000000                9.000000   \n",
       "50%                      10.000000               10.000000   \n",
       "75%                      10.000000               10.000000   \n",
       "max                      10.000000               10.000000   \n",
       "\n",
       "       review_scores_value  \n",
       "count          3158.000000  \n",
       "mean              9.452185  \n",
       "std               0.750099  \n",
       "min               2.000000  \n",
       "25%               9.000000  \n",
       "50%              10.000000  \n",
       "75%              10.000000  \n",
       "max              10.000000  "
      ]
     },
     "execution_count": 44,
     "metadata": {},
     "output_type": "execute_result"
    }
   ],
   "source": [
    "seattle_reviews_clean.describe()"
   ]
  },
  {
   "cell_type": "code",
   "execution_count": 45,
   "id": "1d06d6ae",
   "metadata": {},
   "outputs": [
    {
     "name": "stdout",
     "output_type": "stream",
     "text": [
      "82.71 % of the airbnbs in Seattle are reviewed\n"
     ]
    }
   ],
   "source": [
    "#proportion of the reviews in Seattle\n",
    "prop_rev_seattle = 100* seattle_reviews_clean['number_of_reviews'].count()/seattle_reviews['number_of_reviews'].count()\n",
    "print('{0:.2f} % of the airbnbs in Seattle are reviewed'.format(prop_rev_seattle))"
   ]
  },
  {
   "cell_type": "markdown",
   "id": "67fb5407",
   "metadata": {},
   "source": [
    "#### Conclusion:\n",
    "In Seattle are more airbnbs reviewed than in Boston (83% vs. 77%) and the means of review scores in Seattle are higher than in Boston."
   ]
  },
  {
   "cell_type": "markdown",
   "id": "26cbf004",
   "metadata": {},
   "source": [
    "## 5. Data Modelling"
   ]
  },
  {
   "cell_type": "markdown",
   "id": "f855567f",
   "metadata": {},
   "source": [
    "### Question 3: Is there a correlation between the price and the number of bed- and bathrooms?\n",
    "\n",
    "First i write three functions for a linear regression model, to predict the price depending on the number of bed- and bathrooms"
   ]
  },
  {
   "cell_type": "code",
   "execution_count": 46,
   "id": "570382e1",
   "metadata": {},
   "outputs": [],
   "source": [
    "#function to predict the price\n",
    "def predicting_price(data):\n",
    "    X=data[['bathrooms', 'bedrooms']]\n",
    "    y=data['price']\n",
    "\n",
    "    X_train, X_test, y_train, y_test = train_test_split(X,y, test_size=0.3, random_state=42)\n",
    "    lm_model=LinearRegression()\n",
    "    lm_model.fit(X_train, y_train)\n",
    "    y_test_preds=lm_model.predict(X_test)\n",
    "    r2_test=lm_model.score(X_test, y_test)\n",
    "    \n",
    "    return 'The r2 squared for the linear regression is {}.' .format(r2_test)"
   ]
  },
  {
   "cell_type": "code",
   "execution_count": 47,
   "id": "735e6d28",
   "metadata": {},
   "outputs": [],
   "source": [
    "#function to see the correlation between the price and the bedrooms\n",
    "def predicting_price_bedrooms(data):\n",
    "    data['intercept'] = 1\n",
    "    lm = sm.OLS(data['price'], data[['intercept', 'bedrooms']])\n",
    "    results=lm.fit()\n",
    "    return results.summary()\n"
   ]
  },
  {
   "cell_type": "code",
   "execution_count": 48,
   "id": "1ca80574",
   "metadata": {},
   "outputs": [],
   "source": [
    "#function to see the correlation between the price and the bathrooms\n",
    "def predicting_price_bathrooms(data):\n",
    "    data['intercept'] = 1\n",
    "    lm = sm.OLS(data['price'], data[['intercept', 'bathrooms']])\n",
    "    results=lm.fit()\n",
    "    return results.summary()"
   ]
  },
  {
   "cell_type": "markdown",
   "id": "74784a75",
   "metadata": {},
   "source": [
    "#### Boston:"
   ]
  },
  {
   "cell_type": "code",
   "execution_count": 49,
   "id": "e97aa450",
   "metadata": {},
   "outputs": [
    {
     "data": {
      "text/plain": [
       "'The r2 squared for the linear regression is 0.20923865541370024.'"
      ]
     },
     "execution_count": 49,
     "metadata": {},
     "output_type": "execute_result"
    }
   ],
   "source": [
    "#correlation betweern price and the number of both rooms\n",
    "predicting_price(boston_price)"
   ]
  },
  {
   "cell_type": "code",
   "execution_count": 50,
   "id": "0281992c",
   "metadata": {},
   "outputs": [
    {
     "data": {
      "text/html": [
       "<table class=\"simpletable\">\n",
       "<caption>OLS Regression Results</caption>\n",
       "<tr>\n",
       "  <th>Dep. Variable:</th>          <td>price</td>      <th>  R-squared:         </th> <td>   0.205</td> \n",
       "</tr>\n",
       "<tr>\n",
       "  <th>Model:</th>                   <td>OLS</td>       <th>  Adj. R-squared:    </th> <td>   0.205</td> \n",
       "</tr>\n",
       "<tr>\n",
       "  <th>Method:</th>             <td>Least Squares</td>  <th>  F-statistic:       </th> <td>   917.7</td> \n",
       "</tr>\n",
       "<tr>\n",
       "  <th>Date:</th>             <td>Wed, 08 Mar 2023</td> <th>  Prob (F-statistic):</th> <td>1.58e-179</td>\n",
       "</tr>\n",
       "<tr>\n",
       "  <th>Time:</th>                 <td>10:19:46</td>     <th>  Log-Likelihood:    </th> <td> -21822.</td> \n",
       "</tr>\n",
       "<tr>\n",
       "  <th>No. Observations:</th>      <td>  3556</td>      <th>  AIC:               </th> <td>4.365e+04</td>\n",
       "</tr>\n",
       "<tr>\n",
       "  <th>Df Residuals:</th>          <td>  3554</td>      <th>  BIC:               </th> <td>4.366e+04</td>\n",
       "</tr>\n",
       "<tr>\n",
       "  <th>Df Model:</th>              <td>     1</td>      <th>                     </th>     <td> </td>    \n",
       "</tr>\n",
       "<tr>\n",
       "  <th>Covariance Type:</th>      <td>nonrobust</td>    <th>                     </th>     <td> </td>    \n",
       "</tr>\n",
       "</table>\n",
       "<table class=\"simpletable\">\n",
       "<tr>\n",
       "      <td></td>         <th>coef</th>     <th>std err</th>      <th>t</th>      <th>P>|t|</th>  <th>[0.025</th>    <th>0.975]</th>  \n",
       "</tr>\n",
       "<tr>\n",
       "  <th>intercept</th> <td>   77.3805</td> <td>    3.649</td> <td>   21.208</td> <td> 0.000</td> <td>   70.227</td> <td>   84.534</td>\n",
       "</tr>\n",
       "<tr>\n",
       "  <th>bedrooms</th>  <td>   75.3989</td> <td>    2.489</td> <td>   30.294</td> <td> 0.000</td> <td>   70.519</td> <td>   80.279</td>\n",
       "</tr>\n",
       "</table>\n",
       "<table class=\"simpletable\">\n",
       "<tr>\n",
       "  <th>Omnibus:</th>       <td>2729.977</td> <th>  Durbin-Watson:     </th>  <td>   1.445</td> \n",
       "</tr>\n",
       "<tr>\n",
       "  <th>Prob(Omnibus):</th>  <td> 0.000</td>  <th>  Jarque-Bera (JB):  </th> <td>100426.284</td>\n",
       "</tr>\n",
       "<tr>\n",
       "  <th>Skew:</th>           <td> 3.305</td>  <th>  Prob(JB):          </th>  <td>    0.00</td> \n",
       "</tr>\n",
       "<tr>\n",
       "  <th>Kurtosis:</th>       <td>28.181</td>  <th>  Cond. No.          </th>  <td>    3.92</td> \n",
       "</tr>\n",
       "</table><br/><br/>Notes:<br/>[1] Standard Errors assume that the covariance matrix of the errors is correctly specified."
      ],
      "text/plain": [
       "<class 'statsmodels.iolib.summary.Summary'>\n",
       "\"\"\"\n",
       "                            OLS Regression Results                            \n",
       "==============================================================================\n",
       "Dep. Variable:                  price   R-squared:                       0.205\n",
       "Model:                            OLS   Adj. R-squared:                  0.205\n",
       "Method:                 Least Squares   F-statistic:                     917.7\n",
       "Date:                Wed, 08 Mar 2023   Prob (F-statistic):          1.58e-179\n",
       "Time:                        10:19:46   Log-Likelihood:                -21822.\n",
       "No. Observations:                3556   AIC:                         4.365e+04\n",
       "Df Residuals:                    3554   BIC:                         4.366e+04\n",
       "Df Model:                           1                                         \n",
       "Covariance Type:            nonrobust                                         \n",
       "==============================================================================\n",
       "                 coef    std err          t      P>|t|      [0.025      0.975]\n",
       "------------------------------------------------------------------------------\n",
       "intercept     77.3805      3.649     21.208      0.000      70.227      84.534\n",
       "bedrooms      75.3989      2.489     30.294      0.000      70.519      80.279\n",
       "==============================================================================\n",
       "Omnibus:                     2729.977   Durbin-Watson:                   1.445\n",
       "Prob(Omnibus):                  0.000   Jarque-Bera (JB):           100426.284\n",
       "Skew:                           3.305   Prob(JB):                         0.00\n",
       "Kurtosis:                      28.181   Cond. No.                         3.92\n",
       "==============================================================================\n",
       "\n",
       "Notes:\n",
       "[1] Standard Errors assume that the covariance matrix of the errors is correctly specified.\n",
       "\"\"\""
      ]
     },
     "execution_count": 50,
     "metadata": {},
     "output_type": "execute_result"
    }
   ],
   "source": [
    "#correlation betweern price and number of bedrooms\n",
    "predicting_price_bedrooms(boston_price)"
   ]
  },
  {
   "cell_type": "code",
   "execution_count": 51,
   "id": "f7af30c4",
   "metadata": {},
   "outputs": [
    {
     "data": {
      "text/html": [
       "<table class=\"simpletable\">\n",
       "<caption>OLS Regression Results</caption>\n",
       "<tr>\n",
       "  <th>Dep. Variable:</th>          <td>price</td>      <th>  R-squared:         </th> <td>   0.083</td> \n",
       "</tr>\n",
       "<tr>\n",
       "  <th>Model:</th>                   <td>OLS</td>       <th>  Adj. R-squared:    </th> <td>   0.083</td> \n",
       "</tr>\n",
       "<tr>\n",
       "  <th>Method:</th>             <td>Least Squares</td>  <th>  F-statistic:       </th> <td>   323.4</td> \n",
       "</tr>\n",
       "<tr>\n",
       "  <th>Date:</th>             <td>Wed, 08 Mar 2023</td> <th>  Prob (F-statistic):</th> <td>2.88e-69</td> \n",
       "</tr>\n",
       "<tr>\n",
       "  <th>Time:</th>                 <td>10:19:46</td>     <th>  Log-Likelihood:    </th> <td> -22076.</td> \n",
       "</tr>\n",
       "<tr>\n",
       "  <th>No. Observations:</th>      <td>  3556</td>      <th>  AIC:               </th> <td>4.416e+04</td>\n",
       "</tr>\n",
       "<tr>\n",
       "  <th>Df Residuals:</th>          <td>  3554</td>      <th>  BIC:               </th> <td>4.417e+04</td>\n",
       "</tr>\n",
       "<tr>\n",
       "  <th>Df Model:</th>              <td>     1</td>      <th>                     </th>     <td> </td>    \n",
       "</tr>\n",
       "<tr>\n",
       "  <th>Covariance Type:</th>      <td>nonrobust</td>    <th>                     </th>     <td> </td>    \n",
       "</tr>\n",
       "</table>\n",
       "<table class=\"simpletable\">\n",
       "<tr>\n",
       "      <td></td>         <th>coef</th>     <th>std err</th>      <th>t</th>      <th>P>|t|</th>  <th>[0.025</th>    <th>0.975]</th>  \n",
       "</tr>\n",
       "<tr>\n",
       "  <th>intercept</th> <td>   83.9066</td> <td>    5.306</td> <td>   15.815</td> <td> 0.000</td> <td>   73.504</td> <td>   94.309</td>\n",
       "</tr>\n",
       "<tr>\n",
       "  <th>bathrooms</th> <td>   72.2020</td> <td>    4.015</td> <td>   17.982</td> <td> 0.000</td> <td>   64.330</td> <td>   80.074</td>\n",
       "</tr>\n",
       "</table>\n",
       "<table class=\"simpletable\">\n",
       "<tr>\n",
       "  <th>Omnibus:</th>       <td>2343.691</td> <th>  Durbin-Watson:     </th> <td>   1.531</td> \n",
       "</tr>\n",
       "<tr>\n",
       "  <th>Prob(Omnibus):</th>  <td> 0.000</td>  <th>  Jarque-Bera (JB):  </th> <td>57188.130</td>\n",
       "</tr>\n",
       "<tr>\n",
       "  <th>Skew:</th>           <td> 2.756</td>  <th>  Prob(JB):          </th> <td>    0.00</td> \n",
       "</tr>\n",
       "<tr>\n",
       "  <th>Kurtosis:</th>       <td>21.857</td>  <th>  Cond. No.          </th> <td>    5.28</td> \n",
       "</tr>\n",
       "</table><br/><br/>Notes:<br/>[1] Standard Errors assume that the covariance matrix of the errors is correctly specified."
      ],
      "text/plain": [
       "<class 'statsmodels.iolib.summary.Summary'>\n",
       "\"\"\"\n",
       "                            OLS Regression Results                            \n",
       "==============================================================================\n",
       "Dep. Variable:                  price   R-squared:                       0.083\n",
       "Model:                            OLS   Adj. R-squared:                  0.083\n",
       "Method:                 Least Squares   F-statistic:                     323.4\n",
       "Date:                Wed, 08 Mar 2023   Prob (F-statistic):           2.88e-69\n",
       "Time:                        10:19:46   Log-Likelihood:                -22076.\n",
       "No. Observations:                3556   AIC:                         4.416e+04\n",
       "Df Residuals:                    3554   BIC:                         4.417e+04\n",
       "Df Model:                           1                                         \n",
       "Covariance Type:            nonrobust                                         \n",
       "==============================================================================\n",
       "                 coef    std err          t      P>|t|      [0.025      0.975]\n",
       "------------------------------------------------------------------------------\n",
       "intercept     83.9066      5.306     15.815      0.000      73.504      94.309\n",
       "bathrooms     72.2020      4.015     17.982      0.000      64.330      80.074\n",
       "==============================================================================\n",
       "Omnibus:                     2343.691   Durbin-Watson:                   1.531\n",
       "Prob(Omnibus):                  0.000   Jarque-Bera (JB):            57188.130\n",
       "Skew:                           2.756   Prob(JB):                         0.00\n",
       "Kurtosis:                      21.857   Cond. No.                         5.28\n",
       "==============================================================================\n",
       "\n",
       "Notes:\n",
       "[1] Standard Errors assume that the covariance matrix of the errors is correctly specified.\n",
       "\"\"\""
      ]
     },
     "execution_count": 51,
     "metadata": {},
     "output_type": "execute_result"
    }
   ],
   "source": [
    "#correlation betweern price and number of bathrooms\n",
    "predicting_price_bathrooms(boston_price)"
   ]
  },
  {
   "cell_type": "markdown",
   "id": "5ea40739",
   "metadata": {},
   "source": [
    "#### Seattle:"
   ]
  },
  {
   "cell_type": "code",
   "execution_count": 52,
   "id": "bed9c04d",
   "metadata": {},
   "outputs": [
    {
     "data": {
      "text/plain": [
       "'The r2 squared for the linear regression is 0.4280325143290581.'"
      ]
     },
     "execution_count": 52,
     "metadata": {},
     "output_type": "execute_result"
    }
   ],
   "source": [
    "#correlation betweern price and the number of both rooms\n",
    "predicting_price(seattle_price)"
   ]
  },
  {
   "cell_type": "code",
   "execution_count": 53,
   "id": "f9982418",
   "metadata": {},
   "outputs": [
    {
     "data": {
      "text/html": [
       "<table class=\"simpletable\">\n",
       "<caption>OLS Regression Results</caption>\n",
       "<tr>\n",
       "  <th>Dep. Variable:</th>          <td>price</td>      <th>  R-squared:         </th> <td>   0.395</td> \n",
       "</tr>\n",
       "<tr>\n",
       "  <th>Model:</th>                   <td>OLS</td>       <th>  Adj. R-squared:    </th> <td>   0.395</td> \n",
       "</tr>\n",
       "<tr>\n",
       "  <th>Method:</th>             <td>Least Squares</td>  <th>  F-statistic:       </th> <td>   2473.</td> \n",
       "</tr>\n",
       "<tr>\n",
       "  <th>Date:</th>             <td>Wed, 08 Mar 2023</td> <th>  Prob (F-statistic):</th>  <td>  0.00</td>  \n",
       "</tr>\n",
       "<tr>\n",
       "  <th>Time:</th>                 <td>10:19:46</td>     <th>  Log-Likelihood:    </th> <td> -21527.</td> \n",
       "</tr>\n",
       "<tr>\n",
       "  <th>No. Observations:</th>      <td>  3795</td>      <th>  AIC:               </th> <td>4.306e+04</td>\n",
       "</tr>\n",
       "<tr>\n",
       "  <th>Df Residuals:</th>          <td>  3793</td>      <th>  BIC:               </th> <td>4.307e+04</td>\n",
       "</tr>\n",
       "<tr>\n",
       "  <th>Df Model:</th>              <td>     1</td>      <th>                     </th>     <td> </td>    \n",
       "</tr>\n",
       "<tr>\n",
       "  <th>Covariance Type:</th>      <td>nonrobust</td>    <th>                     </th>     <td> </td>    \n",
       "</tr>\n",
       "</table>\n",
       "<table class=\"simpletable\">\n",
       "<tr>\n",
       "      <td></td>         <th>coef</th>     <th>std err</th>      <th>t</th>      <th>P>|t|</th>  <th>[0.025</th>    <th>0.975]</th>  \n",
       "</tr>\n",
       "<tr>\n",
       "  <th>intercept</th> <td>   44.0619</td> <td>    2.039</td> <td>   21.612</td> <td> 0.000</td> <td>   40.065</td> <td>   48.059</td>\n",
       "</tr>\n",
       "<tr>\n",
       "  <th>bedrooms</th>  <td>   64.2037</td> <td>    1.291</td> <td>   49.731</td> <td> 0.000</td> <td>   61.673</td> <td>   66.735</td>\n",
       "</tr>\n",
       "</table>\n",
       "<table class=\"simpletable\">\n",
       "<tr>\n",
       "  <th>Omnibus:</th>       <td>2807.132</td> <th>  Durbin-Watson:     </th> <td>   1.715</td> \n",
       "</tr>\n",
       "<tr>\n",
       "  <th>Prob(Omnibus):</th>  <td> 0.000</td>  <th>  Jarque-Bera (JB):  </th> <td>95704.985</td>\n",
       "</tr>\n",
       "<tr>\n",
       "  <th>Skew:</th>           <td> 3.151</td>  <th>  Prob(JB):          </th> <td>    0.00</td> \n",
       "</tr>\n",
       "<tr>\n",
       "  <th>Kurtosis:</th>       <td>26.781</td>  <th>  Cond. No.          </th> <td>    3.68</td> \n",
       "</tr>\n",
       "</table><br/><br/>Notes:<br/>[1] Standard Errors assume that the covariance matrix of the errors is correctly specified."
      ],
      "text/plain": [
       "<class 'statsmodels.iolib.summary.Summary'>\n",
       "\"\"\"\n",
       "                            OLS Regression Results                            \n",
       "==============================================================================\n",
       "Dep. Variable:                  price   R-squared:                       0.395\n",
       "Model:                            OLS   Adj. R-squared:                  0.395\n",
       "Method:                 Least Squares   F-statistic:                     2473.\n",
       "Date:                Wed, 08 Mar 2023   Prob (F-statistic):               0.00\n",
       "Time:                        10:19:46   Log-Likelihood:                -21527.\n",
       "No. Observations:                3795   AIC:                         4.306e+04\n",
       "Df Residuals:                    3793   BIC:                         4.307e+04\n",
       "Df Model:                           1                                         \n",
       "Covariance Type:            nonrobust                                         \n",
       "==============================================================================\n",
       "                 coef    std err          t      P>|t|      [0.025      0.975]\n",
       "------------------------------------------------------------------------------\n",
       "intercept     44.0619      2.039     21.612      0.000      40.065      48.059\n",
       "bedrooms      64.2037      1.291     49.731      0.000      61.673      66.735\n",
       "==============================================================================\n",
       "Omnibus:                     2807.132   Durbin-Watson:                   1.715\n",
       "Prob(Omnibus):                  0.000   Jarque-Bera (JB):            95704.985\n",
       "Skew:                           3.151   Prob(JB):                         0.00\n",
       "Kurtosis:                      26.781   Cond. No.                         3.68\n",
       "==============================================================================\n",
       "\n",
       "Notes:\n",
       "[1] Standard Errors assume that the covariance matrix of the errors is correctly specified.\n",
       "\"\"\""
      ]
     },
     "execution_count": 53,
     "metadata": {},
     "output_type": "execute_result"
    }
   ],
   "source": [
    "#correlation betweern price and number of bedrooms\n",
    "predicting_price_bedrooms(seattle_price)"
   ]
  },
  {
   "cell_type": "code",
   "execution_count": 54,
   "id": "2d40fc33",
   "metadata": {
    "scrolled": true
   },
   "outputs": [
    {
     "data": {
      "text/html": [
       "<table class=\"simpletable\">\n",
       "<caption>OLS Regression Results</caption>\n",
       "<tr>\n",
       "  <th>Dep. Variable:</th>          <td>price</td>      <th>  R-squared:         </th> <td>   0.267</td> \n",
       "</tr>\n",
       "<tr>\n",
       "  <th>Model:</th>                   <td>OLS</td>       <th>  Adj. R-squared:    </th> <td>   0.267</td> \n",
       "</tr>\n",
       "<tr>\n",
       "  <th>Method:</th>             <td>Least Squares</td>  <th>  F-statistic:       </th> <td>   1380.</td> \n",
       "</tr>\n",
       "<tr>\n",
       "  <th>Date:</th>             <td>Wed, 08 Mar 2023</td> <th>  Prob (F-statistic):</th> <td>6.74e-258</td>\n",
       "</tr>\n",
       "<tr>\n",
       "  <th>Time:</th>                 <td>10:19:46</td>     <th>  Log-Likelihood:    </th> <td> -21891.</td> \n",
       "</tr>\n",
       "<tr>\n",
       "  <th>No. Observations:</th>      <td>  3795</td>      <th>  AIC:               </th> <td>4.379e+04</td>\n",
       "</tr>\n",
       "<tr>\n",
       "  <th>Df Residuals:</th>          <td>  3793</td>      <th>  BIC:               </th> <td>4.380e+04</td>\n",
       "</tr>\n",
       "<tr>\n",
       "  <th>Df Model:</th>              <td>     1</td>      <th>                     </th>     <td> </td>    \n",
       "</tr>\n",
       "<tr>\n",
       "  <th>Covariance Type:</th>      <td>nonrobust</td>    <th>                     </th>     <td> </td>    \n",
       "</tr>\n",
       "</table>\n",
       "<table class=\"simpletable\">\n",
       "<tr>\n",
       "      <td></td>         <th>coef</th>     <th>std err</th>      <th>t</th>      <th>P>|t|</th>  <th>[0.025</th>    <th>0.975]</th>  \n",
       "</tr>\n",
       "<tr>\n",
       "  <th>intercept</th> <td>   28.4324</td> <td>    2.962</td> <td>    9.601</td> <td> 0.000</td> <td>   22.626</td> <td>   34.239</td>\n",
       "</tr>\n",
       "<tr>\n",
       "  <th>bathrooms</th> <td>   79.0591</td> <td>    2.128</td> <td>   37.148</td> <td> 0.000</td> <td>   74.887</td> <td>   83.232</td>\n",
       "</tr>\n",
       "</table>\n",
       "<table class=\"simpletable\">\n",
       "<tr>\n",
       "  <th>Omnibus:</th>       <td>2166.812</td> <th>  Durbin-Watson:     </th> <td>   1.786</td> \n",
       "</tr>\n",
       "<tr>\n",
       "  <th>Prob(Omnibus):</th>  <td> 0.000</td>  <th>  Jarque-Bera (JB):  </th> <td>63590.520</td>\n",
       "</tr>\n",
       "<tr>\n",
       "  <th>Skew:</th>           <td> 2.176</td>  <th>  Prob(JB):          </th> <td>    0.00</td> \n",
       "</tr>\n",
       "<tr>\n",
       "  <th>Kurtosis:</th>       <td>22.576</td>  <th>  Cond. No.          </th> <td>    4.76</td> \n",
       "</tr>\n",
       "</table><br/><br/>Notes:<br/>[1] Standard Errors assume that the covariance matrix of the errors is correctly specified."
      ],
      "text/plain": [
       "<class 'statsmodels.iolib.summary.Summary'>\n",
       "\"\"\"\n",
       "                            OLS Regression Results                            \n",
       "==============================================================================\n",
       "Dep. Variable:                  price   R-squared:                       0.267\n",
       "Model:                            OLS   Adj. R-squared:                  0.267\n",
       "Method:                 Least Squares   F-statistic:                     1380.\n",
       "Date:                Wed, 08 Mar 2023   Prob (F-statistic):          6.74e-258\n",
       "Time:                        10:19:46   Log-Likelihood:                -21891.\n",
       "No. Observations:                3795   AIC:                         4.379e+04\n",
       "Df Residuals:                    3793   BIC:                         4.380e+04\n",
       "Df Model:                           1                                         \n",
       "Covariance Type:            nonrobust                                         \n",
       "==============================================================================\n",
       "                 coef    std err          t      P>|t|      [0.025      0.975]\n",
       "------------------------------------------------------------------------------\n",
       "intercept     28.4324      2.962      9.601      0.000      22.626      34.239\n",
       "bathrooms     79.0591      2.128     37.148      0.000      74.887      83.232\n",
       "==============================================================================\n",
       "Omnibus:                     2166.812   Durbin-Watson:                   1.786\n",
       "Prob(Omnibus):                  0.000   Jarque-Bera (JB):            63590.520\n",
       "Skew:                           2.176   Prob(JB):                         0.00\n",
       "Kurtosis:                      22.576   Cond. No.                         4.76\n",
       "==============================================================================\n",
       "\n",
       "Notes:\n",
       "[1] Standard Errors assume that the covariance matrix of the errors is correctly specified.\n",
       "\"\"\""
      ]
     },
     "execution_count": 54,
     "metadata": {},
     "output_type": "execute_result"
    }
   ],
   "source": [
    "#correlation betweern price and number of bathrooms\n",
    "predicting_price_bathrooms(seattle_price)"
   ]
  },
  {
   "cell_type": "code",
   "execution_count": 55,
   "id": "3b630031",
   "metadata": {
    "scrolled": true
   },
   "outputs": [
    {
     "data": {
      "text/html": [
       "<div>\n",
       "<style scoped>\n",
       "    .dataframe tbody tr th:only-of-type {\n",
       "        vertical-align: middle;\n",
       "    }\n",
       "\n",
       "    .dataframe tbody tr th {\n",
       "        vertical-align: top;\n",
       "    }\n",
       "\n",
       "    .dataframe thead th {\n",
       "        text-align: right;\n",
       "    }\n",
       "</style>\n",
       "<table border=\"1\" class=\"dataframe\">\n",
       "  <thead>\n",
       "    <tr style=\"text-align: right;\">\n",
       "      <th></th>\n",
       "      <th>Bedrooms</th>\n",
       "      <th>Bathrooms</th>\n",
       "      <th>Both Rooms</th>\n",
       "    </tr>\n",
       "  </thead>\n",
       "  <tbody>\n",
       "    <tr>\n",
       "      <th>Boston</th>\n",
       "      <td>0.205</td>\n",
       "      <td>0.083</td>\n",
       "      <td>0.209</td>\n",
       "    </tr>\n",
       "    <tr>\n",
       "      <th>Seattle</th>\n",
       "      <td>0.395</td>\n",
       "      <td>0.267</td>\n",
       "      <td>0.428</td>\n",
       "    </tr>\n",
       "  </tbody>\n",
       "</table>\n",
       "</div>"
      ],
      "text/plain": [
       "         Bedrooms  Bathrooms  Both Rooms\n",
       "Boston      0.205      0.083       0.209\n",
       "Seattle     0.395      0.267       0.428"
      ]
     },
     "execution_count": 55,
     "metadata": {},
     "output_type": "execute_result"
    }
   ],
   "source": [
    "#create a dataframe with all the r2-values\n",
    "r_squared = pd.DataFrame({'Bedrooms': [0.205, 0.395],\n",
    "                        'Bathrooms': [0.083, 0.267],\n",
    "                        'Both Rooms': [0.209, 0.428]},\n",
    "                        index=['Boston', 'Seattle'])\n",
    "r_squared"
   ]
  },
  {
   "cell_type": "markdown",
   "id": "cdfd8157",
   "metadata": {},
   "source": [
    "#### Conclusion:\n",
    "The correlation between the number of rooms and the price has a small r2, that means there is only a weak correlation betweern these values. But the correlation for bedrooms is stronger than for bathrooms. And in Seattle the number of rooms hat a higher influence on the price, because r2 is bigger."
   ]
  },
  {
   "cell_type": "markdown",
   "id": "d43278c4",
   "metadata": {},
   "source": [
    "### Question 4: Is there are correlation between the property or room type of the airbnb and its rating?"
   ]
  },
  {
   "cell_type": "code",
   "execution_count": 56,
   "id": "31d8f6dd",
   "metadata": {},
   "outputs": [],
   "source": [
    "#function to predict the rating\n",
    "def predicting_rating(data):\n",
    "    \n",
    "    # Drop the rows with no rating\n",
    "    data=data.dropna(subset=['review_scores_rating'], axis=0)\n",
    "    y=data['review_scores_rating']\n",
    "    \n",
    "    #Remove uneccessary columns\n",
    "    data = data.drop(['id', 'listing_url', 'scrape_id', 'last_scraped', 'name', 'summary',\n",
    "       'space', 'description', 'experiences_offered', 'neighborhood_overview',\n",
    "       'notes', 'transit',\n",
    "       'thumbnail_url', 'medium_url', 'picture_url', 'xl_picture_url',\n",
    "       'host_id', 'host_url', 'host_name', 'host_since', 'host_location',\n",
    "       'host_about', 'host_response_time', 'host_response_rate',\n",
    "       'host_acceptance_rate', 'host_is_superhost', 'host_thumbnail_url',\n",
    "       'host_picture_url', 'host_neighbourhood', 'host_listings_count',\n",
    "       'host_total_listings_count', 'host_verifications',\n",
    "       'host_has_profile_pic', 'host_identity_verified', 'street',\n",
    "       'neighbourhood', 'neighbourhood_cleansed',\n",
    "       'neighbourhood_group_cleansed', 'city', 'state', 'zipcode', 'market',\n",
    "       'smart_location', 'country_code', 'country', 'latitude', 'longitude',\n",
    "       'is_location_exact', 'accommodates',\n",
    "       'bathrooms', 'bedrooms', 'beds', 'bed_type', 'amenities', 'square_feet',\n",
    "       'price', 'weekly_price', 'monthly_price', 'security_deposit',\n",
    "       'cleaning_fee', 'guests_included', 'extra_people', 'minimum_nights',\n",
    "       'maximum_nights', 'calendar_updated', 'has_availability',\n",
    "       'availability_30', 'availability_60', 'availability_90',\n",
    "       'availability_365', 'calendar_last_scraped', 'number_of_reviews',\n",
    "       'first_review', 'last_review', 'review_scores_rating',\n",
    "       'review_scores_accuracy', 'review_scores_cleanliness',\n",
    "       'review_scores_checkin', 'review_scores_communication',\n",
    "       'review_scores_location', 'review_scores_value', 'requires_license',\n",
    "       'license', 'jurisdiction_names', 'instant_bookable',\n",
    "       'cancellation_policy', 'require_guest_profile_picture',\n",
    "       'require_guest_phone_verification', 'calculated_host_listings_count',\n",
    "       'reviews_per_month'], axis=1)\n",
    "    \n",
    "    # Create dummy variables for the columns with categorival values\n",
    "    cat_cols = data[['property_type', 'room_type']]\n",
    "    for col in cat_cols:\n",
    "        data = pd.concat([data.drop(col, axis=1), pd.get_dummies(data[col], prefix=col, prefix_sep='_', drop_first=True)], axis=1)\n",
    " \n",
    "\n",
    "    X=data\n",
    "   \n",
    "    X_train, X_test, y_train, y_test = train_test_split(X,y, test_size=0.3, random_state=42)\n",
    "    lm_model=LinearRegression()\n",
    "    lm_model.fit(X_train, y_train)\n",
    "    \n",
    "    y_test_preds=lm_model.predict(X_test)\n",
    "    r2_test=lm_model.score(X_test, y_test)\n",
    "    \n",
    "    return 'The r2 squared for the linear regression is {}.' .format(r2_test)"
   ]
  },
  {
   "cell_type": "code",
   "execution_count": 57,
   "id": "7246a173",
   "metadata": {},
   "outputs": [
    {
     "data": {
      "text/plain": [
       "'The r2 squared for the linear regression is -0.010691993708481728.'"
      ]
     },
     "execution_count": 57,
     "metadata": {},
     "output_type": "execute_result"
    }
   ],
   "source": [
    "#run the function for Boston\n",
    "predicting_rating(boston)"
   ]
  },
  {
   "cell_type": "code",
   "execution_count": 58,
   "id": "3f450a3a",
   "metadata": {},
   "outputs": [
    {
     "data": {
      "text/plain": [
       "'The r2 squared for the linear regression is 0.001116031852610111.'"
      ]
     },
     "execution_count": 58,
     "metadata": {},
     "output_type": "execute_result"
    }
   ],
   "source": [
    "# run the function for Seattle\n",
    "predicting_rating(seattle)"
   ]
  },
  {
   "cell_type": "markdown",
   "id": "d4507e44",
   "metadata": {},
   "source": [
    "#### Conclusion:\n",
    "The R squared values are nearly 0, that means there is no linear correlation between the rating and the property/room type of the airbnb."
   ]
  },
  {
   "cell_type": "markdown",
   "id": "d53f1cbe",
   "metadata": {},
   "source": [
    "## 6. Visualisations"
   ]
  },
  {
   "cell_type": "markdown",
   "id": "083a4a5f",
   "metadata": {},
   "source": [
    "#### Stripplpot:\n",
    "Here you can see the distribution of the property type and the price in Seattle and Boston."
   ]
  },
  {
   "cell_type": "code",
   "execution_count": 59,
   "id": "d85e0113",
   "metadata": {},
   "outputs": [
    {
     "data": {
      "image/png": "[encoded data removed]",
      "text/plain": [
       "<Figure size 1000x500 with 1 Axes>"
      ]
     },
     "metadata": {},
     "output_type": "display_data"
    }
   ],
   "source": [
    "plt.figure(figsize=[10,5])\n",
    "ax = sb.stripplot(data=boston_price,x='property_type', y='price', color=boston_color, dodge=True, jitter=0.35, size=2, alpha=.7)\n",
    "ax2= sb.stripplot(data=seattle_price,ax=ax, x='property_type', y='price', color=seattle_color, dodge=True, jitter=0.35, size=2, alpha=.7)\n",
    "plt.xticks(rotation=90)\n",
    "ax.legend(['Boston', 'Seattle'])\n",
    "graph_labels('Distribution of the Price for the different property types in Seattle and Boston', 'Property Type', 'Price in US Dollars');"
   ]
  },
  {
   "cell_type": "markdown",
   "id": "db4f26af",
   "metadata": {},
   "source": [
    "#### Conclusion:\n",
    "On the first view you can see, that there are more expensive airbnbs in Boston than in Seattle."
   ]
  },
  {
   "cell_type": "markdown",
   "id": "305921c5",
   "metadata": {},
   "source": [
    "#### Barplots: \n",
    "Here you can see the difference in the ratings bewteen Boston and Seattle"
   ]
  },
  {
   "cell_type": "code",
   "execution_count": 60,
   "id": "ff82ab97",
   "metadata": {
    "scrolled": false
   },
   "outputs": [
    {
     "data": {
      "image/png": "[encoded data removed]",
      "text/plain": [
       "<Figure size 640x480 with 2 Axes>"
      ]
     },
     "metadata": {},
     "output_type": "display_data"
    }
   ],
   "source": [
    "#barplots to see the difference in the means of the ratings in Boston and Seattle\n",
    "plt.subplot(1,2,1)\n",
    "boston_reviews_clean[['review_scores_accuracy', 'review_scores_cleanliness',\n",
    "       'review_scores_checkin', 'review_scores_communication',\n",
    "       'review_scores_location', 'review_scores_value']].mean().plot(kind='bar', color=boston_color)\n",
    "plt.ylim(8,10)\n",
    "plt.title('Boston')\n",
    "plt.ylabel('Review Scores')\n",
    "\n",
    "plt.subplot(1,2,2)\n",
    "seattle_reviews_clean[['review_scores_accuracy', 'review_scores_cleanliness',\n",
    "       'review_scores_checkin', 'review_scores_communication',\n",
    "       'review_scores_location', 'review_scores_value']].mean().plot(kind='bar', color=seattle_color)\n",
    "plt.ylim(8,10)\n",
    "plt.title('Seattle')\n",
    "\n",
    "plt.suptitle('Ratings for the Airbnbs in Boston and Seattle');"
   ]
  },
  {
   "cell_type": "markdown",
   "id": "9a5213db",
   "metadata": {},
   "source": [
    "#### Conlcusion:\n",
    "Here you can see, that the Means of the  Ratings  in Seattle are higher than in Boston."
   ]
  },
  {
   "cell_type": "markdown",
   "id": "22c50b8a",
   "metadata": {},
   "source": [
    "#### Scatterplots:\n",
    "Here you can see the correlation betweern the number of rooms and the price of the airbnbs."
   ]
  },
  {
   "cell_type": "code",
   "execution_count": 61,
   "id": "20578680",
   "metadata": {
    "scrolled": false
   },
   "outputs": [
    {
     "data": {
      "image/png": "[encoded data removed]",
      "text/plain": [
       "<Figure size 1000x1000 with 4 Axes>"
      ]
     },
     "metadata": {},
     "output_type": "display_data"
    }
   ],
   "source": [
    "plt.figure(figsize=[10,10])\n",
    "\n",
    "\n",
    "plt.subplot(2,2,1)\n",
    "sb.regplot(data=boston_price, x='bedrooms', y='price')\n",
    "graph_labels('Bedrooms in Boston', 'Number of bedrooms', 'Price in US Dollars')\n",
    "plt.xlim(-1,9)\n",
    "plt.ylim(-1,1500)\n",
    "\n",
    "plt.subplot(2,2,2)\n",
    "sb.regplot(data=boston_price, x='bathrooms', y='price')\n",
    "graph_labels('Bedrooms in Boston', 'Number of bedrooms', 'Price in US Dollars')\n",
    "plt.xlim(-1,9)\n",
    "plt.ylim(-1,1500)\n",
    "\n",
    "plt.subplot(2,2,3)\n",
    "sb.regplot(data=seattle_price, x='bedrooms', y='price', color=seattle_color)\n",
    "graph_labels('Bedrooms in Seattle', 'Number of bedrooms', 'Price in US Dollars')\n",
    "plt.xlim(-1,9)\n",
    "plt.ylim(-1,1500)\n",
    "\n",
    "plt.subplot(2,2,4)\n",
    "sb.regplot(data=seattle_price, x='bathrooms', y='price', color=seattle_color)\n",
    "graph_labels('Bathrooms in Seattle', 'Number of bathrooms', 'Price in US Dollars')\n",
    "plt.xlim(-1,9)\n",
    "plt.ylim(-1,1500)\n",
    "\n",
    "plt.suptitle('Correlation between the number of rooms and the price af the Airbnbs in Boston and Seattle');"
   ]
  },
  {
   "cell_type": "markdown",
   "id": "16bd2c41",
   "metadata": {},
   "source": [
    "#### Conclusion:\n",
    "Here you can see, that there is a positive correlation between the number of rooms and the price."
   ]
  }
 ],
 "metadata": {
  "kernelspec": {
   "display_name": "Python 3 (ipykernel)",
   "language": "python",
   "name": "python3"
  },
  "language_info": {
   "codemirror_mode": {
    "name": "ipython",
    "version": 3
   },
   "file_extension": ".py",
   "mimetype": "text/x-python",
   "name": "python",
   "nbconvert_exporter": "python",
   "pygments_lexer": "ipython3",
   "version": "3.9.13"
  }
 },
 "nbformat": 4,
 "nbformat_minor": 5
}
